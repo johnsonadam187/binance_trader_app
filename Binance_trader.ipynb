{
  "nbformat": 4,
  "nbformat_minor": 0,
  "metadata": {
    "colab": {
      "name": "Binance_trader.ipynb",
      "provenance": [],
      "collapsed_sections": [],
      "authorship_tag": "ABX9TyPPSMo4z9U/CQvZV0Cjm0Px",
      "include_colab_link": true
    },
    "kernelspec": {
      "name": "python3",
      "display_name": "Python 3"
    },
    "language_info": {
      "name": "python"
    }
  },
  "cells": [
    {
      "cell_type": "markdown",
      "metadata": {
        "id": "view-in-github",
        "colab_type": "text"
      },
      "source": [
        "<a href=\"https://colab.research.google.com/github/johnsonadam187/binance_trader_app/blob/Dev/Binance_trader.ipynb\" target=\"_parent\"><img src=\"https://colab.research.google.com/assets/colab-badge.svg\" alt=\"Open In Colab\"/></a>"
      ]
    },
    {
      "cell_type": "markdown",
      "metadata": {
        "id": "-o0IWdkU-SEC"
      },
      "source": [
        "Authentication\n"
      ]
    },
    {
      "cell_type": "code",
      "metadata": {
        "id": "_0tGl9vA9IbZ"
      },
      "source": [
        "api_key = 'Buw50cp1iDCVR9ErLEgSsn2Y0Yk4ToVH1tbsZxQO2FLJOxdkgKwzTyui4tHx60vl'\n",
        "secret_key  = 'UkW9eYi3X47Q0Pi1ZER6OK80vBmzX7cIXtpCqBI4FSGrzQIwyuKC00aPemBHmQ3K'"
      ],
      "execution_count": 1,
      "outputs": []
    },
    {
      "cell_type": "code",
      "metadata": {
        "colab": {
          "base_uri": "https://localhost:8080/"
        },
        "id": "h6xUBTdm-ZRh",
        "outputId": "e6fa66b7-1b22-46ae-92c4-4e182ee824ba"
      },
      "source": [
        "!pip install python-binance mplfinance "
      ],
      "execution_count": 2,
      "outputs": [
        {
          "output_type": "stream",
          "text": [
            "Collecting python-binance\n",
            "\u001b[?25l  Downloading https://files.pythonhosted.org/packages/db/1b/97beaa5f8f71a76e1f7492be33279cf920a37d1f385ffff5c26827781f02/python_binance-1.0.12-py2.py3-none-any.whl (58kB)\n",
            "\u001b[K     |████████████████████████████████| 61kB 1.9MB/s \n",
            "\u001b[?25hCollecting mplfinance\n",
            "\u001b[?25l  Downloading https://files.pythonhosted.org/packages/3f/4e/a3de915df8d112579beb3df22e47b3929670b10e9c5dfd4a2b31bf1a34a7/mplfinance-0.12.7a17-py3-none-any.whl (62kB)\n",
            "\u001b[K     |████████████████████████████████| 71kB 2.5MB/s \n",
            "\u001b[?25hCollecting aiohttp\n",
            "\u001b[?25l  Downloading https://files.pythonhosted.org/packages/88/c0/5890b4c8b04a79b7360e8fe4490feb0bb3ab179743f199f0e6220cebd568/aiohttp-3.7.4.post0-cp37-cp37m-manylinux2014_x86_64.whl (1.3MB)\n",
            "\u001b[K     |████████████████████████████████| 1.3MB 12.2MB/s \n",
            "\u001b[?25hRequirement already satisfied: requests in /usr/local/lib/python3.7/dist-packages (from python-binance) (2.23.0)\n",
            "Collecting dateparser\n",
            "\u001b[?25l  Downloading https://files.pythonhosted.org/packages/78/c4/b5ddc3eeac974d85055d88c1e6b62cc492fc1a93dbe3b66a45a756a7b807/dateparser-1.0.0-py2.py3-none-any.whl (279kB)\n",
            "\u001b[K     |████████████████████████████████| 286kB 27.0MB/s \n",
            "\u001b[?25hRequirement already satisfied: six in /usr/local/lib/python3.7/dist-packages (from python-binance) (1.15.0)\n",
            "Collecting ujson\n",
            "\u001b[?25l  Downloading https://files.pythonhosted.org/packages/17/4e/50e8e4cf5f00b537095711c2c86ac4d7191aed2b4fffd5a19f06898f6929/ujson-4.0.2-cp37-cp37m-manylinux1_x86_64.whl (179kB)\n",
            "\u001b[K     |████████████████████████████████| 184kB 33.2MB/s \n",
            "\u001b[?25hCollecting websockets\n",
            "\u001b[?25l  Downloading https://files.pythonhosted.org/packages/84/64/78c2b3fe37730b30dca3c93d1f7f4a4286767f86e7c04cf3571b39bc2fb7/websockets-9.1-cp37-cp37m-manylinux2010_x86_64.whl (103kB)\n",
            "\u001b[K     |████████████████████████████████| 112kB 37.2MB/s \n",
            "\u001b[?25hRequirement already satisfied: matplotlib in /usr/local/lib/python3.7/dist-packages (from mplfinance) (3.2.2)\n",
            "Requirement already satisfied: pandas in /usr/local/lib/python3.7/dist-packages (from mplfinance) (1.1.5)\n",
            "Collecting async-timeout<4.0,>=3.0\n",
            "  Downloading https://files.pythonhosted.org/packages/e1/1e/5a4441be21b0726c4464f3f23c8b19628372f606755a9d2e46c187e65ec4/async_timeout-3.0.1-py3-none-any.whl\n",
            "Collecting multidict<7.0,>=4.5\n",
            "\u001b[?25l  Downloading https://files.pythonhosted.org/packages/7c/a6/4123b8165acbe773d1a8dc8e3f0d1edea16d29f7de018eda769abb56bd30/multidict-5.1.0-cp37-cp37m-manylinux2014_x86_64.whl (142kB)\n",
            "\u001b[K     |████████████████████████████████| 143kB 39.8MB/s \n",
            "\u001b[?25hCollecting yarl<2.0,>=1.0\n",
            "\u001b[?25l  Downloading https://files.pythonhosted.org/packages/f1/62/046834c5fc998c88ab2ef722f5d42122230a632212c8afa76418324f53ff/yarl-1.6.3-cp37-cp37m-manylinux2014_x86_64.whl (294kB)\n",
            "\u001b[K     |████████████████████████████████| 296kB 40.3MB/s \n",
            "\u001b[?25hRequirement already satisfied: attrs>=17.3.0 in /usr/local/lib/python3.7/dist-packages (from aiohttp->python-binance) (21.2.0)\n",
            "Requirement already satisfied: typing-extensions>=3.6.5 in /usr/local/lib/python3.7/dist-packages (from aiohttp->python-binance) (3.7.4.3)\n",
            "Requirement already satisfied: chardet<5.0,>=2.0 in /usr/local/lib/python3.7/dist-packages (from aiohttp->python-binance) (3.0.4)\n",
            "Requirement already satisfied: idna<3,>=2.5 in /usr/local/lib/python3.7/dist-packages (from requests->python-binance) (2.10)\n",
            "Requirement already satisfied: urllib3!=1.25.0,!=1.25.1,<1.26,>=1.21.1 in /usr/local/lib/python3.7/dist-packages (from requests->python-binance) (1.24.3)\n",
            "Requirement already satisfied: certifi>=2017.4.17 in /usr/local/lib/python3.7/dist-packages (from requests->python-binance) (2021.5.30)\n",
            "Requirement already satisfied: regex!=2019.02.19 in /usr/local/lib/python3.7/dist-packages (from dateparser->python-binance) (2019.12.20)\n",
            "Requirement already satisfied: python-dateutil in /usr/local/lib/python3.7/dist-packages (from dateparser->python-binance) (2.8.1)\n",
            "Requirement already satisfied: tzlocal in /usr/local/lib/python3.7/dist-packages (from dateparser->python-binance) (1.5.1)\n",
            "Requirement already satisfied: pytz in /usr/local/lib/python3.7/dist-packages (from dateparser->python-binance) (2018.9)\n",
            "Requirement already satisfied: pyparsing!=2.0.4,!=2.1.2,!=2.1.6,>=2.0.1 in /usr/local/lib/python3.7/dist-packages (from matplotlib->mplfinance) (2.4.7)\n",
            "Requirement already satisfied: kiwisolver>=1.0.1 in /usr/local/lib/python3.7/dist-packages (from matplotlib->mplfinance) (1.3.1)\n",
            "Requirement already satisfied: numpy>=1.11 in /usr/local/lib/python3.7/dist-packages (from matplotlib->mplfinance) (1.19.5)\n",
            "Requirement already satisfied: cycler>=0.10 in /usr/local/lib/python3.7/dist-packages (from matplotlib->mplfinance) (0.10.0)\n",
            "Installing collected packages: async-timeout, multidict, yarl, aiohttp, dateparser, ujson, websockets, python-binance, mplfinance\n",
            "Successfully installed aiohttp-3.7.4.post0 async-timeout-3.0.1 dateparser-1.0.0 mplfinance-0.12.7a17 multidict-5.1.0 python-binance-1.0.12 ujson-4.0.2 websockets-9.1 yarl-1.6.3\n"
          ],
          "name": "stdout"
        }
      ]
    },
    {
      "cell_type": "code",
      "metadata": {
        "id": "ud4a8G0d-ovy"
      },
      "source": [
        "import pandas as pd\n",
        "from binance import Client, ThreadedWebsocketManager, ThreadedDepthCacheManager"
      ],
      "execution_count": 3,
      "outputs": []
    },
    {
      "cell_type": "code",
      "metadata": {
        "id": "npE9QJh2_WNO"
      },
      "source": [
        "client = Client(api_key, secret_key)"
      ],
      "execution_count": 4,
      "outputs": []
    },
    {
      "cell_type": "markdown",
      "metadata": {
        "id": "OpqH4uWg_l77"
      },
      "source": [
        "Get Data\n"
      ]
    },
    {
      "cell_type": "code",
      "metadata": {
        "colab": {
          "base_uri": "https://localhost:8080/"
        },
        "id": "z14eTXld_jt3",
        "outputId": "97d9edf0-4991-456a-e8e0-872236df1683"
      },
      "source": [
        "tickers = client.get_all_tickers()\n",
        "print(tickers)"
      ],
      "execution_count": 5,
      "outputs": [
        {
          "output_type": "stream",
          "text": [
            "[{'symbol': 'ETHBTC', 'price': '0.06299500'}, {'symbol': 'LTCBTC', 'price': '0.00437000'}, {'symbol': 'BNBBTC', 'price': '0.00908300'}, {'symbol': 'NEOBTC', 'price': '0.00125700'}, {'symbol': 'QTUMETH', 'price': '0.00361900'}, {'symbol': 'EOSETH', 'price': '0.00205400'}, {'symbol': 'SNTETH', 'price': '0.00002932'}, {'symbol': 'BNTETH', 'price': '0.00158500'}, {'symbol': 'BCCBTC', 'price': '0.07908100'}, {'symbol': 'GASBTC', 'price': '0.00019750'}, {'symbol': 'BNBETH', 'price': '0.14411000'}, {'symbol': 'BTCUSDT', 'price': '40008.27000000'}, {'symbol': 'ETHUSDT', 'price': '2520.53000000'}, {'symbol': 'HSRBTC', 'price': '0.00041400'}, {'symbol': 'OAXETH', 'price': '0.00017780'}, {'symbol': 'DNTETH', 'price': '0.00002801'}, {'symbol': 'MCOETH', 'price': '0.00577200'}, {'symbol': 'ICNETH', 'price': '0.00166300'}, {'symbol': 'MCOBTC', 'price': '0.00021140'}, {'symbol': 'WTCBTC', 'price': '0.00001974'}, {'symbol': 'WTCETH', 'price': '0.00023700'}, {'symbol': 'LRCBTC', 'price': '0.00000763'}, {'symbol': 'LRCETH', 'price': '0.00012086'}, {'symbol': 'QTUMBTC', 'price': '0.00022820'}, {'symbol': 'YOYOBTC', 'price': '0.00000048'}, {'symbol': 'OMGBTC', 'price': '0.00013140'}, {'symbol': 'OMGETH', 'price': '0.00208500'}, {'symbol': 'ZRXBTC', 'price': '0.00002324'}, {'symbol': 'ZRXETH', 'price': '0.00037157'}, {'symbol': 'STRATBTC', 'price': '0.00003085'}, {'symbol': 'STRATETH', 'price': '0.00105300'}, {'symbol': 'SNGLSBTC', 'price': '0.00000027'}, {'symbol': 'SNGLSETH', 'price': '0.00005306'}, {'symbol': 'BQXBTC', 'price': '0.00006251'}, {'symbol': 'BQXETH', 'price': '0.00099160'}, {'symbol': 'KNCBTC', 'price': '0.00004657'}, {'symbol': 'KNCETH', 'price': '0.00074420'}, {'symbol': 'FUNBTC', 'price': '0.00000053'}, {'symbol': 'FUNETH', 'price': '0.00000837'}, {'symbol': 'SNMBTC', 'price': '0.00000530'}, {'symbol': 'SNMETH', 'price': '0.00004986'}, {'symbol': 'NEOETH', 'price': '0.01994800'}, {'symbol': 'IOTABTC', 'price': '0.00002794'}, {'symbol': 'IOTAETH', 'price': '0.00044439'}, {'symbol': 'LINKBTC', 'price': '0.00060868'}, {'symbol': 'LINKETH', 'price': '0.00965500'}, {'symbol': 'XVGBTC', 'price': '0.00000071'}, {'symbol': 'XVGETH', 'price': '0.00001135'}, {'symbol': 'SALTBTC', 'price': '0.00004250'}, {'symbol': 'SALTETH', 'price': '0.00113800'}, {'symbol': 'MDABTC', 'price': '0.00002209'}, {'symbol': 'MDAETH', 'price': '0.00181150'}, {'symbol': 'MTLBTC', 'price': '0.00005410'}, {'symbol': 'MTLETH', 'price': '0.00085800'}, {'symbol': 'SUBBTC', 'price': '0.00000457'}, {'symbol': 'SUBETH', 'price': '0.00012334'}, {'symbol': 'EOSBTC', 'price': '0.00012940'}, {'symbol': 'SNTBTC', 'price': '0.00000184'}, {'symbol': 'ETCETH', 'price': '0.02288600'}, {'symbol': 'ETCBTC', 'price': '0.00144270'}, {'symbol': 'MTHBTC', 'price': '0.00000062'}, {'symbol': 'MTHETH', 'price': '0.00004135'}, {'symbol': 'ENGBTC', 'price': '0.00006200'}, {'symbol': 'ENGETH', 'price': '0.00186480'}, {'symbol': 'DNTBTC', 'price': '0.00000359'}, {'symbol': 'ZECBTC', 'price': '0.00356300'}, {'symbol': 'ZECETH', 'price': '0.05672000'}, {'symbol': 'BNTBTC', 'price': '0.00009985'}, {'symbol': 'ASTBTC', 'price': '0.00000390'}, {'symbol': 'ASTETH', 'price': '0.00006960'}, {'symbol': 'DASHBTC', 'price': '0.00431700'}, {'symbol': 'DASHETH', 'price': '0.06851000'}, {'symbol': 'OAXBTC', 'price': '0.00000386'}, {'symbol': 'ICNBTC', 'price': '0.00005742'}, {'symbol': 'BTGBTC', 'price': '0.00143300'}, {'symbol': 'BTGETH', 'price': '0.05274500'}, {'symbol': 'EVXBTC', 'price': '0.00001269'}, {'symbol': 'EVXETH', 'price': '0.00062490'}, {'symbol': 'REQBTC', 'price': '0.00000171'}, {'symbol': 'REQETH', 'price': '0.00004995'}, {'symbol': 'VIBBTC', 'price': '0.00000119'}, {'symbol': 'VIBETH', 'price': '0.00001879'}, {'symbol': 'HSRETH', 'price': '0.01247400'}, {'symbol': 'TRXBTC', 'price': '0.00000180'}, {'symbol': 'TRXETH', 'price': '0.00002862'}, {'symbol': 'POWRBTC', 'price': '0.00000504'}, {'symbol': 'POWRETH', 'price': '0.00008085'}, {'symbol': 'ARKBTC', 'price': '0.00002741'}, {'symbol': 'ARKETH', 'price': '0.00104600'}, {'symbol': 'YOYOETH', 'price': '0.00005828'}, {'symbol': 'XRPBTC', 'price': '0.00002163'}, {'symbol': 'XRPETH', 'price': '0.00034322'}, {'symbol': 'MODBTC', 'price': '0.00004280'}, {'symbol': 'MODETH', 'price': '0.00116700'}, {'symbol': 'ENJBTC', 'price': '0.00003803'}, {'symbol': 'ENJETH', 'price': '0.00060619'}, {'symbol': 'STORJBTC', 'price': '0.00002360'}, {'symbol': 'STORJETH', 'price': '0.00029910'}, {'symbol': 'BNBUSDT', 'price': '363.34000000'}, {'symbol': 'VENBNB', 'price': '0.14920000'}, {'symbol': 'YOYOBNB', 'price': '0.00059800'}, {'symbol': 'POWRBNB', 'price': '0.00385000'}, {'symbol': 'VENBTC', 'price': '0.00013928'}, {'symbol': 'VENETH', 'price': '0.00325194'}, {'symbol': 'KMDBTC', 'price': '0.00002724'}, {'symbol': 'KMDETH', 'price': '0.00043300'}, {'symbol': 'NULSBNB', 'price': '0.01257000'}, {'symbol': 'RCNBTC', 'price': '0.00000144'}, {'symbol': 'RCNETH', 'price': '0.00037604'}, {'symbol': 'RCNBNB', 'price': '0.00347300'}, {'symbol': 'NULSBTC', 'price': '0.00001265'}, {'symbol': 'NULSETH', 'price': '0.00051926'}, {'symbol': 'RDNBTC', 'price': '0.00001023'}, {'symbol': 'RDNETH', 'price': '0.00071530'}, {'symbol': 'RDNBNB', 'price': '0.00623000'}, {'symbol': 'XMRBTC', 'price': '0.00715800'}, {'symbol': 'XMRETH', 'price': '0.11348000'}, {'symbol': 'DLTBNB', 'price': '0.00240000'}, {'symbol': 'WTCBNB', 'price': '0.00218100'}, {'symbol': 'DLTBTC', 'price': '0.00000240'}, {'symbol': 'DLTETH', 'price': '0.00016807'}, {'symbol': 'AMBBTC', 'price': '0.00000088'}, {'symbol': 'AMBETH', 'price': '0.00004100'}, {'symbol': 'AMBBNB', 'price': '0.00068500'}, {'symbol': 'BCCETH', 'price': '2.47246000'}, {'symbol': 'BCCUSDT', 'price': '448.70000000'}, {'symbol': 'BCCBNB', 'price': '54.29000000'}, {'symbol': 'BATBTC', 'price': '0.00001708'}, {'symbol': 'BATETH', 'price': '0.00027158'}, {'symbol': 'BATBNB', 'price': '0.00188000'}, {'symbol': 'BCPTBTC', 'price': '0.00000048'}, {'symbol': 'BCPTETH', 'price': '0.00008181'}, {'symbol': 'BCPTBNB', 'price': '0.00116200'}, {'symbol': 'ARNBTC', 'price': '0.00000761'}, {'symbol': 'ARNETH', 'price': '0.00029362'}, {'symbol': 'GVTBTC', 'price': '0.00008750'}, {'symbol': 'GVTETH', 'price': '0.00384600'}, {'symbol': 'CDTBTC', 'price': '0.00000048'}, {'symbol': 'CDTETH', 'price': '0.00000754'}, {'symbol': 'GXSBTC', 'price': '0.00001908'}, {'symbol': 'GXSETH', 'price': '0.00030300'}, {'symbol': 'NEOUSDT', 'price': '50.29700000'}, {'symbol': 'NEOBNB', 'price': '0.13830000'}, {'symbol': 'POEBTC', 'price': '0.00000005'}, {'symbol': 'POEETH', 'price': '0.00000664'}, {'symbol': 'QSPBTC', 'price': '0.00000103'}, {'symbol': 'QSPETH', 'price': '0.00001636'}, {'symbol': 'QSPBNB', 'price': '0.00052350'}, {'symbol': 'BTSBTC', 'price': '0.00000131'}, {'symbol': 'BTSETH', 'price': '0.00009498'}, {'symbol': 'BTSBNB', 'price': '0.00144800'}, {'symbol': 'XZCBTC', 'price': '0.00013550'}, {'symbol': 'XZCETH', 'price': '0.00310000'}, {'symbol': 'XZCBNB', 'price': '0.26750000'}, {'symbol': 'LSKBTC', 'price': '0.00007720'}, {'symbol': 'LSKETH', 'price': '0.00122200'}, {'symbol': 'LSKBNB', 'price': '0.06494000'}, {'symbol': 'TNTBTC', 'price': '0.00000261'}, {'symbol': 'TNTETH', 'price': '0.00000920'}, {'symbol': 'FUELBTC', 'price': '0.00000026'}, {'symbol': 'FUELETH', 'price': '0.00002221'}, {'symbol': 'MANABTC', 'price': '0.00001864'}, {'symbol': 'MANAETH', 'price': '0.00029741'}, {'symbol': 'BCDBTC', 'price': '0.00006892'}, {'symbol': 'BCDETH', 'price': '0.00251000'}, {'symbol': 'DGDBTC', 'price': '0.00393100'}, {'symbol': 'DGDETH', 'price': '0.19260000'}, {'symbol': 'IOTABNB', 'price': '0.00307500'}, {'symbol': 'ADXBTC', 'price': '0.00001780'}, {'symbol': 'ADXETH', 'price': '0.00028260'}, {'symbol': 'ADXBNB', 'price': '0.00492900'}, {'symbol': 'ADABTC', 'price': '0.00003907'}, {'symbol': 'ADAETH', 'price': '0.00062046'}, {'symbol': 'PPTBTC', 'price': '0.00004491'}, {'symbol': 'PPTETH', 'price': '0.00141000'}, {'symbol': 'CMTBTC', 'price': '0.00000028'}, {'symbol': 'CMTETH', 'price': '0.00000625'}, {'symbol': 'CMTBNB', 'price': '0.00057700'}, {'symbol': 'XLMBTC', 'price': '0.00000846'}, {'symbol': 'XLMETH', 'price': '0.00013413'}, {'symbol': 'XLMBNB', 'price': '0.00093100'}, {'symbol': 'CNDBTC', 'price': '0.00000039'}, {'symbol': 'CNDETH', 'price': '0.00002599'}, {'symbol': 'CNDBNB', 'price': '0.00033990'}, {'symbol': 'LENDBTC', 'price': '0.00004512'}, {'symbol': 'LENDETH', 'price': '0.00137174'}, {'symbol': 'WABIBTC', 'price': '0.00000616'}, {'symbol': 'WABIETH', 'price': '0.00040308'}, {'symbol': 'WABIBNB', 'price': '0.00067400'}, {'symbol': 'LTCETH', 'price': '0.06936000'}, {'symbol': 'LTCUSDT', 'price': '174.80000000'}, {'symbol': 'LTCBNB', 'price': '0.48120000'}, {'symbol': 'TNBBTC', 'price': '0.00000007'}, {'symbol': 'TNBETH', 'price': '0.00000752'}, {'symbol': 'WAVESBTC', 'price': '0.00041990'}, {'symbol': 'WAVESETH', 'price': '0.00669300'}, {'symbol': 'WAVESBNB', 'price': '0.04623000'}, {'symbol': 'GTOBTC', 'price': '0.00000140'}, {'symbol': 'GTOETH', 'price': '0.00003197'}, {'symbol': 'GTOBNB', 'price': '0.00035200'}, {'symbol': 'ICXBTC', 'price': '0.00002679'}, {'symbol': 'ICXETH', 'price': '0.00042600'}, {'symbol': 'ICXBNB', 'price': '0.00294700'}, {'symbol': 'OSTBTC', 'price': '0.00000045'}, {'symbol': 'OSTETH', 'price': '0.00000708'}, {'symbol': 'OSTBNB', 'price': '0.00052500'}, {'symbol': 'ELFBTC', 'price': '0.00000535'}, {'symbol': 'ELFETH', 'price': '0.00008504'}, {'symbol': 'AIONBTC', 'price': '0.00000449'}, {'symbol': 'AIONETH', 'price': '0.00007100'}, {'symbol': 'AIONBNB', 'price': '0.00261300'}, {'symbol': 'NEBLBTC', 'price': '0.00004017'}, {'symbol': 'NEBLETH', 'price': '0.00063700'}, {'symbol': 'NEBLBNB', 'price': '0.01356000'}, {'symbol': 'BRDBTC', 'price': '0.00000379'}, {'symbol': 'BRDETH', 'price': '0.00006010'}, {'symbol': 'BRDBNB', 'price': '0.00247000'}, {'symbol': 'MCOBNB', 'price': '0.26837000'}, {'symbol': 'EDOBTC', 'price': '0.00005609'}, {'symbol': 'EDOETH', 'price': '0.00226600'}, {'symbol': 'WINGSBTC', 'price': '0.00001193'}, {'symbol': 'WINGSETH', 'price': '0.00033460'}, {'symbol': 'NAVBTC', 'price': '0.00000969'}, {'symbol': 'NAVETH', 'price': '0.00015450'}, {'symbol': 'NAVBNB', 'price': '0.00423700'}, {'symbol': 'LUNBTC', 'price': '0.00008510'}, {'symbol': 'LUNETH', 'price': '0.00489100'}, {'symbol': 'TRIGBTC', 'price': '0.00001980'}, {'symbol': 'TRIGETH', 'price': '0.00059400'}, {'symbol': 'TRIGBNB', 'price': '0.01218000'}, {'symbol': 'APPCBTC', 'price': '0.00000204'}, {'symbol': 'APPCETH', 'price': '0.00014600'}, {'symbol': 'APPCBNB', 'price': '0.00189100'}, {'symbol': 'VIBEBTC', 'price': '0.00000042'}, {'symbol': 'VIBEETH', 'price': '0.00005720'}, {'symbol': 'RLCBTC', 'price': '0.00009925'}, {'symbol': 'RLCETH', 'price': '0.00157500'}, {'symbol': 'RLCBNB', 'price': '0.03344000'}, {'symbol': 'INSBTC', 'price': '0.00000618'}, {'symbol': 'INSETH', 'price': '0.00050100'}, {'symbol': 'PIVXBTC', 'price': '0.00001900'}, {'symbol': 'PIVXETH', 'price': '0.00030090'}, {'symbol': 'PIVXBNB', 'price': '0.01660000'}, {'symbol': 'IOSTBTC', 'price': '0.00000071'}, {'symbol': 'IOSTETH', 'price': '0.00001123'}, {'symbol': 'CHATBTC', 'price': '0.00000195'}, {'symbol': 'CHATETH', 'price': '0.00006585'}, {'symbol': 'STEEMBTC', 'price': '0.00001067'}, {'symbol': 'STEEMETH', 'price': '0.00016970'}, {'symbol': 'STEEMBNB', 'price': '0.00448000'}, {'symbol': 'NANOBTC', 'price': '0.00016010'}, {'symbol': 'NANOETH', 'price': '0.00254400'}, {'symbol': 'NANOBNB', 'price': '0.05589000'}, {'symbol': 'VIABTC', 'price': '0.00001720'}, {'symbol': 'VIAETH', 'price': '0.00085600'}, {'symbol': 'VIABNB', 'price': '0.00958000'}, {'symbol': 'BLZBTC', 'price': '0.00000478'}, {'symbol': 'BLZETH', 'price': '0.00007567'}, {'symbol': 'BLZBNB', 'price': '0.00052700'}, {'symbol': 'AEBTC', 'price': '0.00000292'}, {'symbol': 'AEETH', 'price': '0.00021900'}, {'symbol': 'AEBNB', 'price': '0.00777000'}, {'symbol': 'RPXBTC', 'price': '0.00000224'}, {'symbol': 'RPXETH', 'price': '0.00005449'}, {'symbol': 'RPXBNB', 'price': '0.00145700'}, {'symbol': 'NCASHBTC', 'price': '0.00000005'}, {'symbol': 'NCASHETH', 'price': '0.00000095'}, {'symbol': 'NCASHBNB', 'price': '0.00006790'}, {'symbol': 'POABTC', 'price': '0.00000093'}, {'symbol': 'POAETH', 'price': '0.00004891'}, {'symbol': 'POABNB', 'price': '0.00092100'}, {'symbol': 'ZILBTC', 'price': '0.00000275'}, {'symbol': 'ZILETH', 'price': '0.00004376'}, {'symbol': 'ZILBNB', 'price': '0.00030320'}, {'symbol': 'ONTBTC', 'price': '0.00002384'}, {'symbol': 'ONTETH', 'price': '0.00037900'}, {'symbol': 'ONTBNB', 'price': '0.00263000'}, {'symbol': 'STORMBTC', 'price': '0.00000035'}, {'symbol': 'STORMETH', 'price': '0.00001398'}, {'symbol': 'STORMBNB', 'price': '0.00006550'}, {'symbol': 'QTUMBNB', 'price': '0.09597000'}, {'symbol': 'QTUMUSDT', 'price': '9.11900000'}, {'symbol': 'XEMBTC', 'price': '0.00000429'}, {'symbol': 'XEMETH', 'price': '0.00006807'}, {'symbol': 'XEMBNB', 'price': '0.00244100'}, {'symbol': 'WANBTC', 'price': '0.00001921'}, {'symbol': 'WANETH', 'price': '0.00030450'}, {'symbol': 'WANBNB', 'price': '0.00211200'}, {'symbol': 'WPRBTC', 'price': '0.00000044'}, {'symbol': 'WPRETH', 'price': '0.00004020'}, {'symbol': 'QLCBTC', 'price': '0.00000094'}, {'symbol': 'QLCETH', 'price': '0.00001472'}, {'symbol': 'SYSBTC', 'price': '0.00000418'}, {'symbol': 'SYSETH', 'price': '0.00011047'}, {'symbol': 'SYSBNB', 'price': '0.00163500'}, {'symbol': 'QLCBNB', 'price': '0.00092200'}, {'symbol': 'GRSBTC', 'price': '0.00001820'}, {'symbol': 'GRSETH', 'price': '0.00076455'}, {'symbol': 'ADAUSDT', 'price': '1.56310000'}, {'symbol': 'ADABNB', 'price': '0.00430300'}, {'symbol': 'CLOAKBTC', 'price': '0.00015550'}, {'symbol': 'CLOAKETH', 'price': '0.00414200'}, {'symbol': 'GNTBTC', 'price': '0.00000678'}, {'symbol': 'GNTETH', 'price': '0.00022071'}, {'symbol': 'GNTBNB', 'price': '0.00243900'}, {'symbol': 'LOOMBTC', 'price': '0.00000162'}, {'symbol': 'LOOMETH', 'price': '0.00002566'}, {'symbol': 'LOOMBNB', 'price': '0.00088500'}, {'symbol': 'XRPUSDT', 'price': '0.86540000'}, {'symbol': 'BCNBTC', 'price': '0.00000022'}, {'symbol': 'BCNETH', 'price': '0.00000707'}, {'symbol': 'BCNBNB', 'price': '0.00002000'}, {'symbol': 'REPBTC', 'price': '0.00049520'}, {'symbol': 'REPETH', 'price': '0.00787000'}, {'symbol': 'REPBNB', 'price': '0.44670000'}, {'symbol': 'BTCTUSD', 'price': '40028.67000000'}, {'symbol': 'TUSDBTC', 'price': '0.00025971'}, {'symbol': 'ETHTUSD', 'price': '2522.91000000'}, {'symbol': 'TUSDETH', 'price': '0.00762097'}, {'symbol': 'TUSDBNB', 'price': '0.06777000'}, {'symbol': 'ZENBTC', 'price': '0.00222080'}, {'symbol': 'ZENETH', 'price': '0.03537000'}, {'symbol': 'ZENBNB', 'price': '0.24510000'}, {'symbol': 'SKYBTC', 'price': '0.00003353'}, {'symbol': 'SKYETH', 'price': '0.00222000'}, {'symbol': 'SKYBNB', 'price': '0.03022000'}, {'symbol': 'EOSUSDT', 'price': '5.18000000'}, {'symbol': 'EOSBNB', 'price': '0.01428000'}, {'symbol': 'CVCBTC', 'price': '0.00000666'}, {'symbol': 'CVCETH', 'price': '0.00010513'}, {'symbol': 'CVCBNB', 'price': '0.00211200'}, {'symbol': 'THETABTC', 'price': '0.00022520'}, {'symbol': 'THETAETH', 'price': '0.00357680'}, {'symbol': 'THETABNB', 'price': '0.02480000'}, {'symbol': 'XRPBNB', 'price': '0.00238000'}, {'symbol': 'TUSDUSDT', 'price': '0.99990000'}, {'symbol': 'IOTAUSDT', 'price': '1.11730000'}, {'symbol': 'XLMUSDT', 'price': '0.33818000'}, {'symbol': 'IOTXBTC', 'price': '0.00000059'}, {'symbol': 'IOTXETH', 'price': '0.00000930'}, {'symbol': 'QKCBTC', 'price': '0.00000042'}, {'symbol': 'QKCETH', 'price': '0.00000668'}, {'symbol': 'AGIBTC', 'price': '0.00000668'}, {'symbol': 'AGIETH', 'price': '0.00007363'}, {'symbol': 'AGIBNB', 'price': '0.00077200'}, {'symbol': 'NXSBTC', 'price': '0.00001713'}, {'symbol': 'NXSETH', 'price': '0.00077300'}, {'symbol': 'NXSBNB', 'price': '0.01087000'}, {'symbol': 'ENJBNB', 'price': '0.00419000'}, {'symbol': 'DATABTC', 'price': '0.00000397'}, {'symbol': 'DATAETH', 'price': '0.00006298'}, {'symbol': 'ONTUSDT', 'price': '0.95370000'}, {'symbol': 'TRXBNB', 'price': '0.00019850'}, {'symbol': 'TRXUSDT', 'price': '0.07213000'}, {'symbol': 'ETCUSDT', 'price': '57.72400000'}, {'symbol': 'ETCBNB', 'price': '0.15859000'}, {'symbol': 'ICXUSDT', 'price': '1.07150000'}, {'symbol': 'SCBTC', 'price': '0.00000039'}, {'symbol': 'SCETH', 'price': '0.00000626'}, {'symbol': 'SCBNB', 'price': '0.00004340'}, {'symbol': 'NPXSBTC', 'price': '0.00000003'}, {'symbol': 'NPXSETH', 'price': '0.00000345'}, {'symbol': 'VENUSDT', 'price': '0.00010000'}, {'symbol': 'KEYBTC', 'price': '0.00000013'}, {'symbol': 'KEYETH', 'price': '0.00000422'}, {'symbol': 'NASBTC', 'price': '0.00001100'}, {'symbol': 'NASETH', 'price': '0.00017400'}, {'symbol': 'NASBNB', 'price': '0.02337000'}, {'symbol': 'MFTBTC', 'price': '0.00000008'}, {'symbol': 'MFTETH', 'price': '0.00000342'}, {'symbol': 'MFTBNB', 'price': '0.00002370'}, {'symbol': 'DENTBTC', 'price': '0.00000004'}, {'symbol': 'DENTETH', 'price': '0.00000143'}, {'symbol': 'ARDRBTC', 'price': '0.00000442'}, {'symbol': 'ARDRETH', 'price': '0.00018870'}, {'symbol': 'ARDRBNB', 'price': '0.00316800'}, {'symbol': 'NULSUSDT', 'price': '0.50600000'}, {'symbol': 'HOTBTC', 'price': '0.00000002'}, {'symbol': 'HOTETH', 'price': '0.00000317'}, {'symbol': 'VETBTC', 'price': '0.00000279'}, {'symbol': 'VETETH', 'price': '0.00004441'}, {'symbol': 'VETUSDT', 'price': '0.11199000'}, {'symbol': 'VETBNB', 'price': '0.00030830'}, {'symbol': 'DOCKBTC', 'price': '0.00000278'}, {'symbol': 'DOCKETH', 'price': '0.00003283'}, {'symbol': 'POLYBTC', 'price': '0.00000529'}, {'symbol': 'POLYBNB', 'price': '0.00145900'}, {'symbol': 'PHXBTC', 'price': '0.00000180'}, {'symbol': 'PHXETH', 'price': '0.00005617'}, {'symbol': 'PHXBNB', 'price': '0.00045600'}, {'symbol': 'HCBTC', 'price': '0.00002000'}, {'symbol': 'HCETH', 'price': '0.00513400'}, {'symbol': 'GOBTC', 'price': '0.00000066'}, {'symbol': 'GOBNB', 'price': '0.00069230'}, {'symbol': 'PAXBTC', 'price': '0.00025175'}, {'symbol': 'PAXBNB', 'price': '0.20121000'}, {'symbol': 'PAXUSDT', 'price': '0.99990000'}, {'symbol': 'PAXETH', 'price': '0.00888047'}, {'symbol': 'RVNBTC', 'price': '0.00000189'}, {'symbol': 'RVNBNB', 'price': '0.00020800'}, {'symbol': 'DCRBTC', 'price': '0.00344900'}, {'symbol': 'DCRBNB', 'price': '0.78100000'}, {'symbol': 'USDCBNB', 'price': '0.21755000'}, {'symbol': 'MITHBTC', 'price': '0.00000142'}, {'symbol': 'MITHBNB', 'price': '0.00015550'}, {'symbol': 'BCHABCBTC', 'price': '0.02933000'}, {'symbol': 'BCHSVBTC', 'price': '0.01117900'}, {'symbol': 'BCHABCUSDT', 'price': '220.08000000'}, {'symbol': 'BCHSVUSDT', 'price': '58.90000000'}, {'symbol': 'BNBPAX', 'price': '365.00000000'}, {'symbol': 'BTCPAX', 'price': '40035.16000000'}, {'symbol': 'ETHPAX', 'price': '2523.45000000'}, {'symbol': 'XRPPAX', 'price': '0.88960000'}, {'symbol': 'EOSPAX', 'price': '2.58450000'}, {'symbol': 'XLMPAX', 'price': '0.04221000'}, {'symbol': 'RENBTC', 'price': '0.00001143'}, {'symbol': 'RENBNB', 'price': '0.00458500'}, {'symbol': 'BNBTUSD', 'price': '364.38000000'}, {'symbol': 'XRPTUSD', 'price': '0.86700000'}, {'symbol': 'EOSTUSD', 'price': '5.16810000'}, {'symbol': 'XLMTUSD', 'price': '0.06833000'}, {'symbol': 'BNBUSDC', 'price': '363.10000000'}, {'symbol': 'BTCUSDC', 'price': '40013.60000000'}, {'symbol': 'ETHUSDC', 'price': '2521.26000000'}, {'symbol': 'XRPUSDC', 'price': '0.86610000'}, {'symbol': 'EOSUSDC', 'price': '5.17330000'}, {'symbol': 'XLMUSDC', 'price': '0.04970000'}, {'symbol': 'USDCUSDT', 'price': '1.00000000'}, {'symbol': 'ADATUSD', 'price': '1.56330000'}, {'symbol': 'TRXTUSD', 'price': '0.07210000'}, {'symbol': 'NEOTUSD', 'price': '11.81800000'}, {'symbol': 'TRXXRP', 'price': '0.08335000'}, {'symbol': 'XZCXRP', 'price': '20.79200000'}, {'symbol': 'PAXTUSD', 'price': '0.99950000'}, {'symbol': 'USDCTUSD', 'price': '1.00000000'}, {'symbol': 'USDCPAX', 'price': '1.00020000'}, {'symbol': 'LINKUSDT', 'price': '24.34700000'}, {'symbol': 'LINKTUSD', 'price': '24.44400000'}, {'symbol': 'LINKPAX', 'price': '3.98340000'}, {'symbol': 'LINKUSDC', 'price': '24.36700000'}, {'symbol': 'WAVESUSDT', 'price': '16.79200000'}, {'symbol': 'WAVESTUSD', 'price': '1.07200000'}, {'symbol': 'WAVESPAX', 'price': '0.80290000'}, {'symbol': 'WAVESUSDC', 'price': '1.20360000'}, {'symbol': 'BCHABCTUSD', 'price': '220.20000000'}, {'symbol': 'BCHABCPAX', 'price': '221.20000000'}, {'symbol': 'BCHABCUSDC', 'price': '220.30000000'}, {'symbol': 'BCHSVTUSD', 'price': '59.17000000'}, {'symbol': 'BCHSVPAX', 'price': '58.18000000'}, {'symbol': 'BCHSVUSDC', 'price': '57.50000000'}, {'symbol': 'LTCTUSD', 'price': '175.04000000'}, {'symbol': 'LTCPAX', 'price': '171.13000000'}, {'symbol': 'LTCUSDC', 'price': '174.98000000'}, {'symbol': 'TRXPAX', 'price': '0.07661000'}, {'symbol': 'TRXUSDC', 'price': '0.07210000'}, {'symbol': 'BTTBTC', 'price': '0.00000005'}, {'symbol': 'BTTBNB', 'price': '0.00000951'}, {'symbol': 'BTTUSDT', 'price': '0.00345600'}, {'symbol': 'BNBUSDS', 'price': '22.27880000'}, {'symbol': 'BTCUSDS', 'price': '9604.59000000'}, {'symbol': 'USDSUSDT', 'price': '0.99680000'}, {'symbol': 'USDSPAX', 'price': '1.00020000'}, {'symbol': 'USDSTUSD', 'price': '1.00000000'}, {'symbol': 'USDSUSDC', 'price': '1.00000000'}, {'symbol': 'BTTPAX', 'price': '0.00038660'}, {'symbol': 'BTTTUSD', 'price': '0.00346560'}, {'symbol': 'BTTUSDC', 'price': '0.00346050'}, {'symbol': 'ONGBNB', 'price': '0.00545000'}, {'symbol': 'ONGBTC', 'price': '0.00002117'}, {'symbol': 'ONGUSDT', 'price': '0.84700000'}, {'symbol': 'HOTBNB', 'price': '0.00002198'}, {'symbol': 'HOTUSDT', 'price': '0.00798200'}, {'symbol': 'ZILUSDT', 'price': '0.11012000'}, {'symbol': 'ZRXBNB', 'price': '0.01045000'}, {'symbol': 'ZRXUSDT', 'price': '0.92880000'}, {'symbol': 'FETBNB', 'price': '0.00083000'}, {'symbol': 'FETBTC', 'price': '0.00000758'}, {'symbol': 'FETUSDT', 'price': '0.30311000'}, {'symbol': 'BATUSDT', 'price': '0.68290000'}, {'symbol': 'XMRBNB', 'price': '0.78900000'}, {'symbol': 'XMRUSDT', 'price': '286.27000000'}, {'symbol': 'ZECBNB', 'price': '0.39390000'}, {'symbol': 'ZECUSDT', 'price': '142.49000000'}, {'symbol': 'ZECPAX', 'price': '42.10000000'}, {'symbol': 'ZECTUSD', 'price': '51.48000000'}, {'symbol': 'ZECUSDC', 'price': '142.73000000'}, {'symbol': 'IOSTBNB', 'price': '0.00007760'}, {'symbol': 'IOSTUSDT', 'price': '0.02824500'}, {'symbol': 'CELRBNB', 'price': '0.00010690'}, {'symbol': 'CELRBTC', 'price': '0.00000098'}, {'symbol': 'CELRUSDT', 'price': '0.03886000'}, {'symbol': 'ADAPAX', 'price': '0.03257000'}, {'symbol': 'ADAUSDC', 'price': '1.56230000'}, {'symbol': 'NEOPAX', 'price': '11.12200000'}, {'symbol': 'NEOUSDC', 'price': '50.60400000'}, {'symbol': 'DASHBNB', 'price': '0.47760000'}, {'symbol': 'DASHUSDT', 'price': '172.70000000'}, {'symbol': 'NANOUSDT', 'price': '6.41280000'}, {'symbol': 'OMGBNB', 'price': '0.03938000'}, {'symbol': 'OMGUSDT', 'price': '5.25600000'}, {'symbol': 'THETAUSDT', 'price': '9.00800000'}, {'symbol': 'ENJUSDT', 'price': '1.52180000'}, {'symbol': 'MITHUSDT', 'price': '0.05641000'}, {'symbol': 'MATICBNB', 'price': '0.00442200'}, {'symbol': 'MATICBTC', 'price': '0.00004015'}, {'symbol': 'MATICUSDT', 'price': '1.60662000'}, {'symbol': 'ATOMBNB', 'price': '0.03618000'}, {'symbol': 'ATOMBTC', 'price': '0.00032790'}, {'symbol': 'ATOMUSDT', 'price': '13.12000000'}, {'symbol': 'ATOMUSDC', 'price': '13.13500000'}, {'symbol': 'ATOMPAX', 'price': '3.17800000'}, {'symbol': 'ATOMTUSD', 'price': '2.59800000'}, {'symbol': 'ETCUSDC', 'price': '4.71000000'}, {'symbol': 'ETCPAX', 'price': '4.83800000'}, {'symbol': 'ETCTUSD', 'price': '3.79500000'}, {'symbol': 'BATUSDC', 'price': '0.68460000'}, {'symbol': 'BATPAX', 'price': '0.25560000'}, {'symbol': 'BATTUSD', 'price': '0.22220000'}, {'symbol': 'PHBBNB', 'price': '0.00013700'}, {'symbol': 'PHBBTC', 'price': '0.00000022'}, {'symbol': 'PHBUSDC', 'price': '0.00587000'}, {'symbol': 'PHBTUSD', 'price': '0.00905000'}, {'symbol': 'PHBPAX', 'price': '0.00639000'}, {'symbol': 'TFUELBNB', 'price': '0.00012590'}, {'symbol': 'TFUELBTC', 'price': '0.00001263'}, {'symbol': 'TFUELUSDT', 'price': '0.50473000'}, {'symbol': 'TFUELUSDC', 'price': '0.00356500'}, {'symbol': 'TFUELTUSD', 'price': '0.00307700'}, {'symbol': 'TFUELPAX', 'price': '0.00348700'}, {'symbol': 'ONEBNB', 'price': '0.00022750'}, {'symbol': 'ONEBTC', 'price': '0.00000207'}, {'symbol': 'ONEUSDT', 'price': '0.08281000'}, {'symbol': 'ONETUSD', 'price': '0.00472000'}, {'symbol': 'ONEPAX', 'price': '0.00496000'}, {'symbol': 'ONEUSDC', 'price': '0.00520000'}, {'symbol': 'FTMBNB', 'price': '0.00078500'}, {'symbol': 'FTMBTC', 'price': '0.00000713'}, {'symbol': 'FTMUSDT', 'price': '0.28498000'}, {'symbol': 'FTMTUSD', 'price': '0.01095000'}, {'symbol': 'FTMPAX', 'price': '0.01028000'}, {'symbol': 'FTMUSDC', 'price': '0.01107000'}, {'symbol': 'BTCBBTC', 'price': '1.00000000'}, {'symbol': 'BCPTTUSD', 'price': '0.02606000'}, {'symbol': 'BCPTPAX', 'price': '0.02761000'}, {'symbol': 'BCPTUSDC', 'price': '0.02728000'}, {'symbol': 'ALGOBNB', 'price': '0.00288300'}, {'symbol': 'ALGOBTC', 'price': '0.00002620'}, {'symbol': 'ALGOUSDT', 'price': '1.04760000'}, {'symbol': 'ALGOTUSD', 'price': '1.01700000'}, {'symbol': 'ALGOPAX', 'price': '0.20390000'}, {'symbol': 'ALGOUSDC', 'price': '0.23800000'}, {'symbol': 'USDSBUSDT', 'price': '0.99970000'}, {'symbol': 'USDSBUSDS', 'price': '0.99990000'}, {'symbol': 'GTOUSDT', 'price': '0.05570000'}, {'symbol': 'GTOPAX', 'price': '0.01361000'}, {'symbol': 'GTOTUSD', 'price': '0.01236000'}, {'symbol': 'GTOUSDC', 'price': '0.01196000'}, {'symbol': 'ERDBNB', 'price': '0.00083273'}, {'symbol': 'ERDBTC', 'price': '0.00000168'}, {'symbol': 'ERDUSDT', 'price': '0.01971000'}, {'symbol': 'ERDPAX', 'price': '0.00125270'}, {'symbol': 'ERDUSDC', 'price': '0.00135730'}, {'symbol': 'DOGEBNB', 'price': '0.00015270'}, {'symbol': 'DOGEBTC', 'price': '0.00000794'}, {'symbol': 'DOGEUSDT', 'price': '0.31743000'}, {'symbol': 'DOGEPAX', 'price': '0.00216820'}, {'symbol': 'DOGEUSDC', 'price': '0.00212770'}, {'symbol': 'DUSKBNB', 'price': '0.00118000'}, {'symbol': 'DUSKBTC', 'price': '0.00000330'}, {'symbol': 'DUSKUSDT', 'price': '0.13230000'}, {'symbol': 'DUSKUSDC', 'price': '0.01790000'}, {'symbol': 'DUSKPAX', 'price': '0.01890000'}, {'symbol': 'BGBPUSDC', 'price': '1.39000000'}, {'symbol': 'ANKRBNB', 'price': '0.00023390'}, {'symbol': 'ANKRBTC', 'price': '0.00000212'}, {'symbol': 'ANKRUSDT', 'price': '0.08464000'}, {'symbol': 'ANKRTUSD', 'price': '0.00212800'}, {'symbol': 'ANKRPAX', 'price': '0.00209300'}, {'symbol': 'ANKRUSDC', 'price': '0.00209700'}, {'symbol': 'ONTPAX', 'price': '0.84510000'}, {'symbol': 'ONTUSDC', 'price': '0.57080000'}, {'symbol': 'WINBNB', 'price': '0.00000132'}, {'symbol': 'WINBTC', 'price': '0.00000001'}, {'symbol': 'WINUSDT', 'price': '0.00048000'}, {'symbol': 'WINUSDC', 'price': '0.00048150'}, {'symbol': 'COSBNB', 'price': '0.00004696'}, {'symbol': 'COSBTC', 'price': '0.00000043'}, {'symbol': 'COSUSDT', 'price': '0.01707000'}, {'symbol': 'TUSDBTUSD', 'price': '0.99750000'}, {'symbol': 'NPXSUSDT', 'price': '0.00703010'}, {'symbol': 'NPXSUSDC', 'price': '0.00017020'}, {'symbol': 'COCOSBNB', 'price': '0.00197400'}, {'symbol': 'COCOSBTC', 'price': '0.00000003'}, {'symbol': 'COCOSUSDT', 'price': '0.71810000'}, {'symbol': 'MTLUSDT', 'price': '2.16760000'}, {'symbol': 'TOMOBNB', 'price': '0.03255000'}, {'symbol': 'TOMOBTC', 'price': '0.00004777'}, {'symbol': 'TOMOUSDT', 'price': '1.91200000'}, {'symbol': 'TOMOUSDC', 'price': '0.36700000'}, {'symbol': 'PERLBNB', 'price': '0.00026550'}, {'symbol': 'PERLBTC', 'price': '0.00000241'}, {'symbol': 'PERLUSDC', 'price': '0.02447000'}, {'symbol': 'PERLUSDT', 'price': '0.09653000'}, {'symbol': 'DENTUSDT', 'price': '0.00360040'}, {'symbol': 'MFTUSDT', 'price': '0.00862900'}, {'symbol': 'KEYUSDT', 'price': '0.01062900'}, {'symbol': 'STORMUSDT', 'price': '0.00339700'}, {'symbol': 'DOCKUSDT', 'price': '0.11071500'}, {'symbol': 'WANUSDT', 'price': '0.76720000'}, {'symbol': 'FUNUSDT', 'price': '0.02112000'}, {'symbol': 'CVCUSDT', 'price': '0.26538000'}, {'symbol': 'BTTTRX', 'price': '0.04795000'}, {'symbol': 'WINTRX', 'price': '0.00666000'}, {'symbol': 'CHZBNB', 'price': '0.00098510'}, {'symbol': 'CHZBTC', 'price': '0.00000896'}, {'symbol': 'CHZUSDT', 'price': '0.35860000'}, {'symbol': 'BANDBNB', 'price': '0.01987000'}, {'symbol': 'BANDBTC', 'price': '0.00018096'}, {'symbol': 'BANDUSDT', 'price': '7.23500000'}, {'symbol': 'BNBBUSD', 'price': '363.40000000'}, {'symbol': 'BTCBUSD', 'price': '40010.20000000'}, {'symbol': 'BUSDUSDT', 'price': '0.99990000'}, {'symbol': 'BEAMBNB', 'price': '0.02177000'}, {'symbol': 'BEAMBTC', 'price': '0.00001612'}, {'symbol': 'BEAMUSDT', 'price': '0.64630000'}, {'symbol': 'XTZBNB', 'price': '0.00911000'}, {'symbol': 'XTZBTC', 'price': '0.00008270'}, {'symbol': 'XTZUSDT', 'price': '3.30660000'}, {'symbol': 'RENUSDT', 'price': '0.45702000'}, {'symbol': 'RVNUSDT', 'price': '0.07552000'}, {'symbol': 'HCUSDT', 'price': '0.84230000'}, {'symbol': 'HBARBNB', 'price': '0.00056160'}, {'symbol': 'HBARBTC', 'price': '0.00000510'}, {'symbol': 'HBARUSDT', 'price': '0.20413000'}, {'symbol': 'NKNBNB', 'price': '0.00074700'}, {'symbol': 'NKNBTC', 'price': '0.00000743'}, {'symbol': 'NKNUSDT', 'price': '0.29748000'}, {'symbol': 'XRPBUSD', 'price': '0.86540000'}, {'symbol': 'ETHBUSD', 'price': '2520.55000000'}, {'symbol': 'BCHABCBUSD', 'price': '220.16000000'}, {'symbol': 'LTCBUSD', 'price': '174.93000000'}, {'symbol': 'LINKBUSD', 'price': '24.34600000'}, {'symbol': 'ETCBUSD', 'price': '57.74700000'}, {'symbol': 'STXBNB', 'price': '0.00256800'}, {'symbol': 'STXBTC', 'price': '0.00002334'}, {'symbol': 'STXUSDT', 'price': '0.93330000'}, {'symbol': 'KAVABNB', 'price': '0.01218000'}, {'symbol': 'KAVABTC', 'price': '0.00011064'}, {'symbol': 'KAVAUSDT', 'price': '4.42440000'}, {'symbol': 'BUSDNGN', 'price': '462.64000000'}, {'symbol': 'BNBNGN', 'price': '43608.00000000'}, {'symbol': 'BTCNGN', 'price': '34329651.00000000'}, {'symbol': 'ARPABNB', 'price': '0.00012380'}, {'symbol': 'ARPABTC', 'price': '0.00000113'}, {'symbol': 'ARPAUSDT', 'price': '0.04501000'}, {'symbol': 'TRXBUSD', 'price': '0.07212000'}, {'symbol': 'EOSBUSD', 'price': '5.17800000'}, {'symbol': 'IOTXUSDT', 'price': '0.02344600'}, {'symbol': 'RLCUSDT', 'price': '3.96650000'}, {'symbol': 'MCOUSDT', 'price': '2.74400000'}, {'symbol': 'XLMBUSD', 'price': '0.33827000'}, {'symbol': 'ADABUSD', 'price': '1.56320000'}, {'symbol': 'CTXCBNB', 'price': '0.00412200'}, {'symbol': 'CTXCBTC', 'price': '0.00000538'}, {'symbol': 'CTXCUSDT', 'price': '0.21510000'}, {'symbol': 'BCHBNB', 'price': '1.70900000'}, {'symbol': 'BCHBTC', 'price': '0.01552400'}, {'symbol': 'BCHUSDT', 'price': '621.04000000'}, {'symbol': 'BCHUSDC', 'price': '621.75000000'}, {'symbol': 'BCHTUSD', 'price': '621.16000000'}, {'symbol': 'BCHPAX', 'price': '617.72000000'}, {'symbol': 'BCHBUSD', 'price': '621.10000000'}, {'symbol': 'BTCRUB', 'price': '2905000.00000000'}, {'symbol': 'ETHRUB', 'price': '183008.40000000'}, {'symbol': 'XRPRUB', 'price': '62.77100000'}, {'symbol': 'BNBRUB', 'price': '26391.90000000'}, {'symbol': 'TROYBNB', 'price': '0.00002919'}, {'symbol': 'TROYBTC', 'price': '0.00000027'}, {'symbol': 'TROYUSDT', 'price': '0.01060900'}, {'symbol': 'BUSDRUB', 'price': '72.61000000'}, {'symbol': 'QTUMBUSD', 'price': '9.12300000'}, {'symbol': 'VETBUSD', 'price': '0.11200000'}, {'symbol': 'VITEBNB', 'price': '0.00070700'}, {'symbol': 'VITEBTC', 'price': '0.00000202'}, {'symbol': 'VITEUSDT', 'price': '0.08060000'}, {'symbol': 'FTTBNB', 'price': '0.09220000'}, {'symbol': 'FTTBTC', 'price': '0.00083790'}, {'symbol': 'FTTUSDT', 'price': '33.52900000'}, {'symbol': 'BTCTRY', 'price': '341044.00000000'}, {'symbol': 'BNBTRY', 'price': '3098.00000000'}, {'symbol': 'BUSDTRY', 'price': '8.53000000'}, {'symbol': 'ETHTRY', 'price': '21484.00000000'}, {'symbol': 'XRPTRY', 'price': '7.37700000'}, {'symbol': 'USDTTRY', 'price': '8.52500000'}, {'symbol': 'USDTRUB', 'price': '72.62400000'}, {'symbol': 'BTCEUR', 'price': '33016.05000000'}, {'symbol': 'ETHEUR', 'price': '2080.29000000'}, {'symbol': 'BNBEUR', 'price': '299.86000000'}, {'symbol': 'XRPEUR', 'price': '0.71420000'}, {'symbol': 'EURBUSD', 'price': '1.21170000'}, {'symbol': 'EURUSDT', 'price': '1.21160000'}, {'symbol': 'OGNBNB', 'price': '0.00275000'}, {'symbol': 'OGNBTC', 'price': '0.00002492'}, {'symbol': 'OGNUSDT', 'price': '0.99790000'}, {'symbol': 'DREPBNB', 'price': '0.00009380'}, {'symbol': 'DREPBTC', 'price': '0.00001400'}, {'symbol': 'DREPUSDT', 'price': '0.56000000'}, {'symbol': 'BULLUSDT', 'price': '1370.28000000'}, {'symbol': 'BULLBUSD', 'price': '1368.56000000'}, {'symbol': 'BEARUSDT', 'price': '11.16000000'}, {'symbol': 'BEARBUSD', 'price': '11.14000000'}, {'symbol': 'ETHBULLUSDT', 'price': '79.18000000'}, {'symbol': 'ETHBULLBUSD', 'price': '78.46000000'}, {'symbol': 'ETHBEARUSDT', 'price': '12.20000000'}, {'symbol': 'ETHBEARBUSD', 'price': '12.24000000'}, {'symbol': 'TCTBNB', 'price': '0.00041860'}, {'symbol': 'TCTBTC', 'price': '0.00000084'}, {'symbol': 'TCTUSDT', 'price': '0.03350000'}, {'symbol': 'WRXBNB', 'price': '0.00442300'}, {'symbol': 'WRXBTC', 'price': '0.00004014'}, {'symbol': 'WRXUSDT', 'price': '1.60500000'}, {'symbol': 'ICXBUSD', 'price': '1.07100000'}, {'symbol': 'BTSUSDT', 'price': '0.05237000'}, {'symbol': 'BTSBUSD', 'price': '0.01930000'}, {'symbol': 'LSKUSDT', 'price': '3.08570000'}, {'symbol': 'BNTUSDT', 'price': '3.99730000'}, {'symbol': 'BNTBUSD', 'price': '3.98310000'}, {'symbol': 'LTOBNB', 'price': '0.00248000'}, {'symbol': 'LTOBTC', 'price': '0.00000592'}, {'symbol': 'LTOUSDT', 'price': '0.23717000'}, {'symbol': 'ATOMBUSD', 'price': '13.13600000'}, {'symbol': 'DASHBUSD', 'price': '172.73000000'}, {'symbol': 'NEOBUSD', 'price': '50.28600000'}, {'symbol': 'WAVESBUSD', 'price': '16.79000000'}, {'symbol': 'XTZBUSD', 'price': '3.30570000'}, {'symbol': 'EOSBULLUSDT', 'price': '3.85000000'}, {'symbol': 'EOSBULLBUSD', 'price': '3.90000000'}, {'symbol': 'EOSBEARUSDT', 'price': '30.21000000'}, {'symbol': 'EOSBEARBUSD', 'price': '29.81000000'}, {'symbol': 'XRPBULLUSDT', 'price': '8.74000000'}, {'symbol': 'XRPBULLBUSD', 'price': '8.78000000'}, {'symbol': 'XRPBEARUSDT', 'price': '548.55000000'}, {'symbol': 'XRPBEARBUSD', 'price': '547.33000000'}, {'symbol': 'BATBUSD', 'price': '0.68340000'}, {'symbol': 'ENJBUSD', 'price': '1.52280000'}, {'symbol': 'NANOBUSD', 'price': '6.41840000'}, {'symbol': 'ONTBUSD', 'price': '0.95370000'}, {'symbol': 'RVNBUSD', 'price': '0.07556000'}, {'symbol': 'STRATBUSD', 'price': '0.49150000'}, {'symbol': 'STRATBNB', 'price': '0.01900000'}, {'symbol': 'STRATUSDT', 'price': '0.49040000'}, {'symbol': 'AIONBUSD', 'price': '0.07210000'}, {'symbol': 'AIONUSDT', 'price': '0.17930000'}, {'symbol': 'MBLBNB', 'price': '0.00002059'}, {'symbol': 'MBLBTC', 'price': '0.00000005'}, {'symbol': 'MBLUSDT', 'price': '0.00746600'}, {'symbol': 'COTIBNB', 'price': '0.00057040'}, {'symbol': 'COTIBTC', 'price': '0.00000518'}, {'symbol': 'COTIUSDT', 'price': '0.20698000'}, {'symbol': 'ALGOBUSD', 'price': '1.04820000'}, {'symbol': 'BTTBUSD', 'price': '0.00345480'}, {'symbol': 'TOMOBUSD', 'price': '1.90960000'}, {'symbol': 'XMRBUSD', 'price': '286.71000000'}, {'symbol': 'ZECBUSD', 'price': '142.58000000'}, {'symbol': 'BNBBULLUSDT', 'price': '57.21000000'}, {'symbol': 'BNBBULLBUSD', 'price': '58.37000000'}, {'symbol': 'BNBBEARUSDT', 'price': '58.61000000'}, {'symbol': 'BNBBEARBUSD', 'price': '57.21000000'}, {'symbol': 'STPTBNB', 'price': '0.00067000'}, {'symbol': 'STPTBTC', 'price': '0.00000119'}, {'symbol': 'STPTUSDT', 'price': '0.04762000'}, {'symbol': 'BTCZAR', 'price': '857014.00000000'}, {'symbol': 'ETHZAR', 'price': '27850.40000000'}, {'symbol': 'BNBZAR', 'price': '5000.00000000'}, {'symbol': 'USDTZAR', 'price': '14.02300000'}, {'symbol': 'BUSDZAR', 'price': '13.88800000'}, {'symbol': 'BTCBKRW', 'price': '42029197.00000000'}, {'symbol': 'ETHBKRW', 'price': '1277799.00000000'}, {'symbol': 'BNBBKRW', 'price': '44687.00000000'}, {'symbol': 'WTCUSDT', 'price': '0.78900000'}, {'symbol': 'DATABUSD', 'price': '0.15884000'}, {'symbol': 'DATAUSDT', 'price': '0.15903000'}, {'symbol': 'XZCUSDT', 'price': '4.44600000'}, {'symbol': 'SOLBNB', 'price': '0.10890000'}, {'symbol': 'SOLBTC', 'price': '0.00098711'}, {'symbol': 'SOLUSDT', 'price': '39.48300000'}, {'symbol': 'SOLBUSD', 'price': '39.49600000'}, {'symbol': 'BTCIDRT', 'price': '572243122.00'}, {'symbol': 'BNBIDRT', 'price': '5206680.00'}, {'symbol': 'USDTIDRT', 'price': '14298.00'}, {'symbol': 'BUSDIDRT', 'price': '14389.00'}, {'symbol': 'CTSIBTC', 'price': '0.00001440'}, {'symbol': 'CTSIUSDT', 'price': '0.57688000'}, {'symbol': 'CTSIBNB', 'price': '0.00158600'}, {'symbol': 'CTSIBUSD', 'price': '0.57660000'}, {'symbol': 'HIVEBNB', 'price': '0.00429000'}, {'symbol': 'HIVEBTC', 'price': '0.00000887'}, {'symbol': 'HIVEUSDT', 'price': '0.35590000'}, {'symbol': 'CHRBNB', 'price': '0.00058020'}, {'symbol': 'CHRBTC', 'price': '0.00000528'}, {'symbol': 'CHRUSDT', 'price': '0.21090000'}, {'symbol': 'BTCUPUSDT', 'price': '64.88100000'}, {'symbol': 'BTCDOWNUSDT', 'price': '0.04768000'}, {'symbol': 'GXSUSDT', 'price': '0.76340000'}, {'symbol': 'ARDRUSDT', 'price': '0.17718000'}, {'symbol': 'ERDBUSD', 'price': '0.01966100'}, {'symbol': 'LENDUSDT', 'price': '0.51431000'}, {'symbol': 'HBARBUSD', 'price': '0.20424000'}, {'symbol': 'MATICBUSD', 'price': '1.60668000'}, {'symbol': 'WRXBUSD', 'price': '1.60570000'}, {'symbol': 'ZILBUSD', 'price': '0.11025000'}, {'symbol': 'MDTBNB', 'price': '0.00073720'}, {'symbol': 'MDTBTC', 'price': '0.00000087'}, {'symbol': 'MDTUSDT', 'price': '0.03470000'}, {'symbol': 'STMXBNB', 'price': '0.00006090'}, {'symbol': 'STMXBTC', 'price': '0.00000055'}, {'symbol': 'STMXETH', 'price': '0.00000877'}, {'symbol': 'STMXUSDT', 'price': '0.02209600'}, {'symbol': 'KNCBUSD', 'price': '1.86400000'}, {'symbol': 'KNCUSDT', 'price': '1.86300000'}, {'symbol': 'REPBUSD', 'price': '13.67300000'}, {'symbol': 'REPUSDT', 'price': '19.85000000'}, {'symbol': 'LRCBUSD', 'price': '0.30517000'}, {'symbol': 'LRCUSDT', 'price': '0.30428000'}, {'symbol': 'IQBNB', 'price': '0.00003584'}, {'symbol': 'IQBUSD', 'price': '0.01299200'}, {'symbol': 'PNTBTC', 'price': '0.00002770'}, {'symbol': 'PNTUSDT', 'price': '1.10170000'}, {'symbol': 'BTCGBP', 'price': '28402.84000000'}, {'symbol': 'ETHGBP', 'price': '1789.50000000'}, {'symbol': 'XRPGBP', 'price': '0.61420000'}, {'symbol': 'BNBGBP', 'price': '258.04000000'}, {'symbol': 'GBPBUSD', 'price': '1.40860000'}, {'symbol': 'DGBBNB', 'price': '0.00015940'}, {'symbol': 'DGBBTC', 'price': '0.00000144'}, {'symbol': 'DGBBUSD', 'price': '0.05770000'}, {'symbol': 'BTCUAH', 'price': '1091520.00000000'}, {'symbol': 'USDTUAH', 'price': '27.24600000'}, {'symbol': 'COMPBTC', 'price': '0.00802300'}, {'symbol': 'COMPBNB', 'price': '5.71900000'}, {'symbol': 'COMPBUSD', 'price': '321.00000000'}, {'symbol': 'COMPUSDT', 'price': '320.90000000'}, {'symbol': 'BTCBIDR', 'price': '573286018.00'}, {'symbol': 'ETHBIDR', 'price': '36142815.00'}, {'symbol': 'BNBBIDR', 'price': '5209864.00'}, {'symbol': 'BUSDBIDR', 'price': '14324.00'}, {'symbol': 'USDTBIDR', 'price': '14324.00'}, {'symbol': 'BKRWUSDT', 'price': '0.00084530'}, {'symbol': 'BKRWBUSD', 'price': '0.00084550'}, {'symbol': 'SCUSDT', 'price': '0.01573800'}, {'symbol': 'ZENUSDT', 'price': '88.78000000'}, {'symbol': 'SXPBTC', 'price': '0.00005979'}, {'symbol': 'SXPBNB', 'price': '0.00658000'}, {'symbol': 'SXPBUSD', 'price': '2.39170000'}, {'symbol': 'SNXBTC', 'price': '0.00024300'}, {'symbol': 'SNXBNB', 'price': '0.02679000'}, {'symbol': 'SNXBUSD', 'price': '9.72100000'}, {'symbol': 'SNXUSDT', 'price': '9.72800000'}, {'symbol': 'ETHUPUSDT', 'price': '53.33300000'}, {'symbol': 'ETHDOWNUSDT', 'price': '0.00006800'}, {'symbol': 'ADAUPUSDT', 'price': '101.34700000'}, {'symbol': 'ADADOWNUSDT', 'price': '0.03420000'}, {'symbol': 'LINKUPUSDT', 'price': '3.06200000'}, {'symbol': 'LINKDOWNUSDT', 'price': '0.19230000'}, {'symbol': 'VTHOBNB', 'price': '0.00002239'}, {'symbol': 'VTHOBUSD', 'price': '0.00071800'}, {'symbol': 'VTHOUSDT', 'price': '0.00814100'}, {'symbol': 'DCRBUSD', 'price': '16.03500000'}, {'symbol': 'DGBUSDT', 'price': '0.05764000'}, {'symbol': 'GBPUSDT', 'price': '1.40870000'}, {'symbol': 'STORJBUSD', 'price': '0.36200000'}, {'symbol': 'SXPUSDT', 'price': '2.39300000'}, {'symbol': 'IRISBNB', 'price': '0.00166200'}, {'symbol': 'IRISBTC', 'price': '0.00000216'}, {'symbol': 'IRISBUSD', 'price': '0.06080000'}, {'symbol': 'MKRBNB', 'price': '8.54300000'}, {'symbol': 'MKRBTC', 'price': '0.07740700'}, {'symbol': 'MKRUSDT', 'price': '3102.49000000'}, {'symbol': 'MKRBUSD', 'price': '3107.43000000'}, {'symbol': 'DAIBNB', 'price': '0.04876000'}, {'symbol': 'DAIBTC', 'price': '0.00008966'}, {'symbol': 'DAIUSDT', 'price': '1.01890000'}, {'symbol': 'DAIBUSD', 'price': '1.01810000'}, {'symbol': 'RUNEBNB', 'price': '0.02738000'}, {'symbol': 'RUNEBTC', 'price': '0.00024828'}, {'symbol': 'RUNEBUSD', 'price': '9.93900000'}, {'symbol': 'MANABUSD', 'price': '0.74660000'}, {'symbol': 'DOGEBUSD', 'price': '0.31751000'}, {'symbol': 'LENDBUSD', 'price': '0.51530000'}, {'symbol': 'ZRXBUSD', 'price': '0.93050000'}, {'symbol': 'DCRUSDT', 'price': '137.71000000'}, {'symbol': 'STORJUSDT', 'price': '0.94540000'}, {'symbol': 'XRPBKRW', 'price': '319.76000000'}, {'symbol': 'ADABKRW', 'price': '327.55000000'}, {'symbol': 'BTCAUD', 'price': '52028.77000000'}, {'symbol': 'ETHAUD', 'price': '3278.40000000'}, {'symbol': 'AUDBUSD', 'price': '0.76927000'}, {'symbol': 'FIOBNB', 'price': '0.00062440'}, {'symbol': 'FIOBTC', 'price': '0.00000567'}, {'symbol': 'FIOBUSD', 'price': '0.22690000'}, {'symbol': 'BNBUPUSDT', 'price': '351.11100000'}, {'symbol': 'BNBDOWNUSDT', 'price': '2.01500000'}, {'symbol': 'XTZUPUSDT', 'price': '0.06300000'}, {'symbol': 'XTZDOWNUSDT', 'price': '0.00195000'}, {'symbol': 'AVABNB', 'price': '0.00814000'}, {'symbol': 'AVABTC', 'price': '0.00007390'}, {'symbol': 'AVABUSD', 'price': '2.96520000'}, {'symbol': 'USDTBKRW', 'price': '1125.00000000'}, {'symbol': 'BUSDBKRW', 'price': '1097.18000000'}, {'symbol': 'IOTABUSD', 'price': '1.11690000'}, {'symbol': 'MANAUSDT', 'price': '0.74540000'}, {'symbol': 'XRPAUD', 'price': '1.12380000'}, {'symbol': 'BNBAUD', 'price': '472.72000000'}, {'symbol': 'AUDUSDT', 'price': '0.76916000'}, {'symbol': 'BALBNB', 'price': '0.42580000'}, {'symbol': 'BALBTC', 'price': '0.00059000'}, {'symbol': 'BALBUSD', 'price': '23.57400000'}, {'symbol': 'YFIBNB', 'price': '106.12000000'}, {'symbol': 'YFIBTC', 'price': '0.96375000'}, {'symbol': 'YFIBUSD', 'price': '38562.67000000'}, {'symbol': 'YFIUSDT', 'price': '38535.55000000'}, {'symbol': 'BLZBUSD', 'price': '0.07104000'}, {'symbol': 'KMDBUSD', 'price': '0.46760000'}, {'symbol': 'BALUSDT', 'price': '23.58000000'}, {'symbol': 'BLZUSDT', 'price': '0.19066000'}, {'symbol': 'IRISUSDT', 'price': '0.08680000'}, {'symbol': 'KMDUSDT', 'price': '1.09150000'}, {'symbol': 'BTCDAI', 'price': '40016.58000000'}, {'symbol': 'ETHDAI', 'price': '2518.89000000'}, {'symbol': 'BNBDAI', 'price': '363.28000000'}, {'symbol': 'USDTDAI', 'price': '0.99890000'}, {'symbol': 'BUSDDAI', 'price': '0.99910000'}, {'symbol': 'JSTBNB', 'price': '0.00017080'}, {'symbol': 'JSTBTC', 'price': '0.00000155'}, {'symbol': 'JSTBUSD', 'price': '0.06220000'}, {'symbol': 'JSTUSDT', 'price': '0.06225000'}, {'symbol': 'SRMBNB', 'price': '0.01208800'}, {'symbol': 'SRMBTC', 'price': '0.00010960'}, {'symbol': 'SRMBUSD', 'price': '4.38410000'}, {'symbol': 'SRMUSDT', 'price': '4.38620000'}, {'symbol': 'ANTBNB', 'price': '0.01258000'}, {'symbol': 'ANTBTC', 'price': '0.00011380'}, {'symbol': 'ANTBUSD', 'price': '4.55910000'}, {'symbol': 'ANTUSDT', 'price': '4.56140000'}, {'symbol': 'CRVBNB', 'price': '0.00606700'}, {'symbol': 'CRVBTC', 'price': '0.00005513'}, {'symbol': 'CRVBUSD', 'price': '2.20700000'}, {'symbol': 'CRVUSDT', 'price': '2.20500000'}, {'symbol': 'SANDBNB', 'price': '0.00081990'}, {'symbol': 'SANDBTC', 'price': '0.00000744'}, {'symbol': 'SANDUSDT', 'price': '0.29763000'}, {'symbol': 'SANDBUSD', 'price': '0.29766000'}, {'symbol': 'OCEANBNB', 'price': '0.00154300'}, {'symbol': 'OCEANBTC', 'price': '0.00001402'}, {'symbol': 'OCEANBUSD', 'price': '0.56030000'}, {'symbol': 'OCEANUSDT', 'price': '0.56070000'}, {'symbol': 'NMRBNB', 'price': '0.11100000'}, {'symbol': 'NMRBTC', 'price': '0.00100900'}, {'symbol': 'NMRBUSD', 'price': '40.38600000'}, {'symbol': 'NMRUSDT', 'price': '40.35200000'}, {'symbol': 'DOTBNB', 'price': '0.06650000'}, {'symbol': 'DOTBTC', 'price': '0.00060408'}, {'symbol': 'DOTBUSD', 'price': '24.16600000'}, {'symbol': 'DOTUSDT', 'price': '24.16700000'}, {'symbol': 'LUNABNB', 'price': '0.01767000'}, {'symbol': 'LUNABTC', 'price': '0.00016012'}, {'symbol': 'LUNABUSD', 'price': '6.40900000'}, {'symbol': 'LUNAUSDT', 'price': '6.40100000'}, {'symbol': 'IDEXBTC', 'price': '0.00000138'}, {'symbol': 'IDEXBUSD', 'price': '0.05531000'}, {'symbol': 'RSRBNB', 'price': '0.00008930'}, {'symbol': 'RSRBTC', 'price': '0.00000082'}, {'symbol': 'RSRBUSD', 'price': '0.03251000'}, {'symbol': 'RSRUSDT', 'price': '0.03247000'}, {'symbol': 'PAXGBNB', 'price': '5.11500000'}, {'symbol': 'PAXGBTC', 'price': '0.04655000'}, {'symbol': 'PAXGBUSD', 'price': '1890.00000000'}, {'symbol': 'PAXGUSDT', 'price': '1862.61000000'}, {'symbol': 'WNXMBNB', 'price': '0.18090000'}, {'symbol': 'WNXMBTC', 'price': '0.00164100'}, {'symbol': 'WNXMBUSD', 'price': '22.16500000'}, {'symbol': 'WNXMUSDT', 'price': '65.64600000'}, {'symbol': 'TRBBNB', 'price': '0.51700000'}, {'symbol': 'TRBBTC', 'price': '0.00127100'}, {'symbol': 'TRBBUSD', 'price': '50.83400000'}, {'symbol': 'TRBUSDT', 'price': '50.81400000'}, {'symbol': 'ETHNGN', 'price': '805670.00000000'}, {'symbol': 'DOTBIDR', 'price': '346459.00'}, {'symbol': 'LINKAUD', 'price': '31.62900000'}, {'symbol': 'SXPAUD', 'price': '3.11500000'}, {'symbol': 'BZRXBNB', 'price': '0.00514000'}, {'symbol': 'BZRXBTC', 'price': '0.00000877'}, {'symbol': 'BZRXBUSD', 'price': '0.35050000'}, {'symbol': 'BZRXUSDT', 'price': '0.35080000'}, {'symbol': 'WBTCBTC', 'price': '1.00118000'}, {'symbol': 'WBTCETH', 'price': '15.89100000'}, {'symbol': 'SUSHIBNB', 'price': '0.02425000'}, {'symbol': 'SUSHIBTC', 'price': '0.00022040'}, {'symbol': 'SUSHIBUSD', 'price': '8.81100000'}, {'symbol': 'SUSHIUSDT', 'price': '8.81300000'}, {'symbol': 'YFIIBNB', 'price': '5.00600000'}, {'symbol': 'YFIIBTC', 'price': '0.04549000'}, {'symbol': 'YFIIBUSD', 'price': '1827.25000000'}, {'symbol': 'YFIIUSDT', 'price': '1820.91000000'}, {'symbol': 'KSMBNB', 'price': '1.06050000'}, {'symbol': 'KSMBTC', 'price': '0.00964500'}, {'symbol': 'KSMBUSD', 'price': '385.72000000'}, {'symbol': 'KSMUSDT', 'price': '385.88000000'}, {'symbol': 'EGLDBNB', 'price': '0.24440000'}, {'symbol': 'EGLDBTC', 'price': '0.00222000'}, {'symbol': 'EGLDBUSD', 'price': '88.82000000'}, {'symbol': 'EGLDUSDT', 'price': '88.82000000'}, {'symbol': 'DIABNB', 'price': '0.00443500'}, {'symbol': 'DIABTC', 'price': '0.00004060'}, {'symbol': 'DIABUSD', 'price': '1.62100000'}, {'symbol': 'DIAUSDT', 'price': '1.62400000'}, {'symbol': 'RUNEUSDT', 'price': '9.94700000'}, {'symbol': 'FIOUSDT', 'price': '0.22720000'}, {'symbol': 'UMABTC', 'price': '0.00031990'}, {'symbol': 'UMAUSDT', 'price': '12.79300000'}, {'symbol': 'EOSUPUSDT', 'price': '1.71200000'}, {'symbol': 'EOSDOWNUSDT', 'price': '0.00100000'}, {'symbol': 'TRXUPUSDT', 'price': '0.38900000'}, {'symbol': 'TRXDOWNUSDT', 'price': '0.00097000'}, {'symbol': 'XRPUPUSDT', 'price': '4.41100000'}, {'symbol': 'XRPDOWNUSDT', 'price': '0.01684300'}, {'symbol': 'DOTUPUSDT', 'price': '13.24200000'}, {'symbol': 'DOTDOWNUSDT', 'price': '0.00560000'}, {'symbol': 'SRMBIDR', 'price': '26748.00'}, {'symbol': 'ONEBIDR', 'price': '119.92'}, {'symbol': 'LINKTRY', 'price': '207.40000000'}, {'symbol': 'USDTNGN', 'price': '858.82000000'}, {'symbol': 'BELBNB', 'price': '0.00474000'}, {'symbol': 'BELBTC', 'price': '0.00004299'}, {'symbol': 'BELBUSD', 'price': '1.72040000'}, {'symbol': 'BELUSDT', 'price': '1.71940000'}, {'symbol': 'WINGBNB', 'price': '0.06410000'}, {'symbol': 'WINGBTC', 'price': '0.00058500'}, {'symbol': 'SWRVBNB', 'price': '0.00250200'}, {'symbol': 'SWRVBUSD', 'price': '0.90900000'}, {'symbol': 'WINGBUSD', 'price': '23.40000000'}, {'symbol': 'WINGUSDT', 'price': '23.36500000'}, {'symbol': 'LTCUPUSDT', 'price': '5.52000000'}, {'symbol': 'LTCDOWNUSDT', 'price': '0.00010900'}, {'symbol': 'LENDBKRW', 'price': '579.46000000'}, {'symbol': 'SXPEUR', 'price': '1.97500000'}, {'symbol': 'CREAMBNB', 'price': '0.46060000'}, {'symbol': 'CREAMBUSD', 'price': '168.45000000'}, {'symbol': 'UNIBNB', 'price': '0.06345000'}, {'symbol': 'UNIBTC', 'price': '0.00057609'}, {'symbol': 'UNIBUSD', 'price': '23.05500000'}, {'symbol': 'UNIUSDT', 'price': '23.04800000'}, {'symbol': 'NBSBTC', 'price': '0.00000037'}, {'symbol': 'NBSUSDT', 'price': '0.01514000'}, {'symbol': 'OXTBTC', 'price': '0.00000818'}, {'symbol': 'OXTUSDT', 'price': '0.32790000'}, {'symbol': 'SUNBTC', 'price': '0.00071100'}, {'symbol': 'SUNUSDT', 'price': '27.57200000'}, {'symbol': 'AVAXBNB', 'price': '0.04036000'}, {'symbol': 'AVAXBTC', 'price': '0.00036659'}, {'symbol': 'AVAXBUSD', 'price': '14.67700000'}, {'symbol': 'AVAXUSDT', 'price': '14.66900000'}, {'symbol': 'HNTBTC', 'price': '0.00032850'}, {'symbol': 'HNTUSDT', 'price': '13.13300000'}, {'symbol': 'BAKEBNB', 'price': '0.00881000'}, {'symbol': 'BURGERBNB', 'price': '0.01516000'}, {'symbol': 'SXPBIDR', 'price': '34330.00'}, {'symbol': 'LINKBKRW', 'price': '16948.99000000'}, {'symbol': 'FLMBNB', 'price': '0.00333000'}, {'symbol': 'FLMBTC', 'price': '0.00001377'}, {'symbol': 'FLMBUSD', 'price': '0.55080000'}, {'symbol': 'FLMUSDT', 'price': '0.55100000'}, {'symbol': 'SCRTBTC', 'price': '0.00003671'}, {'symbol': 'SCRTETH', 'price': '0.00058600'}, {'symbol': 'CAKEBNB', 'price': '0.04627000'}, {'symbol': 'CAKEBUSD', 'price': '16.81300000'}, {'symbol': 'SPARTABNB', 'price': '0.00122700'}, {'symbol': 'UNIUPUSDT', 'price': '7.39000000'}, {'symbol': 'UNIDOWNUSDT', 'price': '0.00023100'}, {'symbol': 'ORNBTC', 'price': '0.00024200'}, {'symbol': 'ORNUSDT', 'price': '9.68100000'}, {'symbol': 'TRXNGN', 'price': '20.71000000'}, {'symbol': 'SXPTRY', 'price': '20.40000000'}, {'symbol': 'UTKBTC', 'price': '0.00000763'}, {'symbol': 'UTKUSDT', 'price': '0.30560000'}, {'symbol': 'XVSBNB', 'price': '0.07800000'}, {'symbol': 'XVSBTC', 'price': '0.00070900'}, {'symbol': 'XVSBUSD', 'price': '28.33400000'}, {'symbol': 'XVSUSDT', 'price': '28.33900000'}, {'symbol': 'ALPHABNB', 'price': '0.00174330'}, {'symbol': 'ALPHABTC', 'price': '0.00001581'}, {'symbol': 'ALPHABUSD', 'price': '0.63180000'}, {'symbol': 'ALPHAUSDT', 'price': '0.63060000'}, {'symbol': 'VIDTBTC', 'price': '0.00001223'}, {'symbol': 'VIDTBUSD', 'price': '0.48640000'}, {'symbol': 'AAVEBNB', 'price': '0.85540000'}, {'symbol': 'BTCBRL', 'price': '203051.00000000'}, {'symbol': 'USDTBRL', 'price': '5.07600000'}, {'symbol': 'AAVEBTC', 'price': '0.00777000'}, {'symbol': 'AAVEETH', 'price': '0.12339000'}, {'symbol': 'AAVEBUSD', 'price': '310.84000000'}, {'symbol': 'AAVEUSDT', 'price': '310.73000000'}, {'symbol': 'AAVEBKRW', 'price': '164167.00000000'}, {'symbol': 'NEARBNB', 'price': '0.00877000'}, {'symbol': 'NEARBTC', 'price': '0.00007960'}, {'symbol': 'NEARBUSD', 'price': '3.18360000'}, {'symbol': 'NEARUSDT', 'price': '3.18030000'}, {'symbol': 'SXPUPUSDT', 'price': '0.54730000'}, {'symbol': 'SXPDOWNUSDT', 'price': '1.98400000'}, {'symbol': 'DOTBKRW', 'price': '13514.98000000'}, {'symbol': 'SXPGBP', 'price': '1.69900000'}, {'symbol': 'FILBNB', 'price': '0.19645000'}, {'symbol': 'FILBTC', 'price': '0.00178540'}, {'symbol': 'FILBUSD', 'price': '71.41000000'}, {'symbol': 'FILUSDT', 'price': '71.40000000'}, {'symbol': 'FILUPUSDT', 'price': '3.90700000'}, {'symbol': 'FILDOWNUSDT', 'price': '0.00351700'}, {'symbol': 'YFIUPUSDT', 'price': '0.77300000'}, {'symbol': 'YFIDOWNUSDT', 'price': '2.98150000'}, {'symbol': 'INJBNB', 'price': '0.02269000'}, {'symbol': 'INJBTC', 'price': '0.00020593'}, {'symbol': 'INJBUSD', 'price': '8.24900000'}, {'symbol': 'INJUSDT', 'price': '8.24800000'}, {'symbol': 'AERGOBTC', 'price': '0.00000377'}, {'symbol': 'AERGOBUSD', 'price': '0.15148000'}, {'symbol': 'LINKEUR', 'price': '20.10600000'}, {'symbol': 'ONEBUSD', 'price': '0.08293000'}, {'symbol': 'EASYETH', 'price': '0.00623000'}, {'symbol': 'AUDIOBTC', 'price': '0.00002789'}, {'symbol': 'AUDIOBUSD', 'price': '1.11550000'}, {'symbol': 'AUDIOUSDT', 'price': '1.11690000'}, {'symbol': 'CTKBNB', 'price': '0.00365500'}, {'symbol': 'CTKBTC', 'price': '0.00003319'}, {'symbol': 'CTKBUSD', 'price': '1.32790000'}, {'symbol': 'CTKUSDT', 'price': '1.32750000'}, {'symbol': 'BCHUPUSDT', 'price': '0.52800000'}, {'symbol': 'BCHDOWNUSDT', 'price': '0.85600000'}, {'symbol': 'BOTBTC', 'price': '0.04906000'}, {'symbol': 'BOTBUSD', 'price': '2783.23000000'}, {'symbol': 'ETHBRL', 'price': '12796.61000000'}, {'symbol': 'DOTEUR', 'price': '19.94600000'}, {'symbol': 'AKROBTC', 'price': '0.00000059'}, {'symbol': 'AKROUSDT', 'price': '0.02339900'}, {'symbol': 'KP3RBNB', 'price': '0.40510000'}, {'symbol': 'KP3RBUSD', 'price': '148.00000000'}, {'symbol': 'AXSBNB', 'price': '0.01288500'}, {'symbol': 'AXSBTC', 'price': '0.00011620'}, {'symbol': 'AXSBUSD', 'price': '4.65680000'}, {'symbol': 'AXSUSDT', 'price': '4.66620000'}, {'symbol': 'HARDBNB', 'price': '0.00305100'}, {'symbol': 'HARDBTC', 'price': '0.00002773'}, {'symbol': 'HARDBUSD', 'price': '1.11000000'}, {'symbol': 'HARDUSDT', 'price': '1.10850000'}, {'symbol': 'BNBBRL', 'price': '1845.42000000'}, {'symbol': 'LTCEUR', 'price': '144.41000000'}, {'symbol': 'RENBTCBTC', 'price': '0.99876000'}, {'symbol': 'RENBTCETH', 'price': '15.86200000'}, {'symbol': 'DNTBUSD', 'price': '0.14366000'}, {'symbol': 'DNTUSDT', 'price': '0.14379000'}, {'symbol': 'SLPETH', 'price': '0.00005510'}, {'symbol': 'ADAEUR', 'price': '1.29040000'}, {'symbol': 'LTCNGN', 'price': '78132.00000000'}, {'symbol': 'CVPETH', 'price': '0.00043100'}, {'symbol': 'CVPBUSD', 'price': '1.09020000'}, {'symbol': 'STRAXBTC', 'price': '0.00003318'}, {'symbol': 'STRAXETH', 'price': '0.00052700'}, {'symbol': 'STRAXBUSD', 'price': '1.32860000'}, {'symbol': 'STRAXUSDT', 'price': '1.32860000'}, {'symbol': 'FORBTC', 'price': '0.00000092'}, {'symbol': 'FORBUSD', 'price': '0.03665000'}, {'symbol': 'UNFIBNB', 'price': '0.02762000'}, {'symbol': 'UNFIBTC', 'price': '0.00025174'}, {'symbol': 'UNFIBUSD', 'price': '10.03400000'}, {'symbol': 'UNFIUSDT', 'price': '10.03600000'}, {'symbol': 'FRONTETH', 'price': '0.00032330'}, {'symbol': 'FRONTBUSD', 'price': '0.81110000'}, {'symbol': 'BCHABUSD', 'price': '20.20100000'}, {'symbol': 'ROSEBTC', 'price': '0.00000198'}, {'symbol': 'ROSEBUSD', 'price': '0.07916000'}, {'symbol': 'ROSEUSDT', 'price': '0.07925000'}, {'symbol': 'AVAXTRY', 'price': '125.10000000'}, {'symbol': 'BUSDBRL', 'price': '5.07700000'}, {'symbol': 'AVAUSDT', 'price': '2.96690000'}, {'symbol': 'SYSBUSD', 'price': '0.16679000'}, {'symbol': 'XEMUSDT', 'price': '0.17150000'}, {'symbol': 'HEGICETH', 'price': '0.00004320'}, {'symbol': 'HEGICBUSD', 'price': '0.10910000'}, {'symbol': 'AAVEUPUSDT', 'price': '2.64300000'}, {'symbol': 'AAVEDOWNUSDT', 'price': '0.08730000'}, {'symbol': 'PROMBNB', 'price': '0.03840000'}, {'symbol': 'PROMBUSD', 'price': '13.91000000'}, {'symbol': 'XRPBRL', 'price': '4.39800000'}, {'symbol': 'XRPNGN', 'price': '214.17000000'}, {'symbol': 'SKLBTC', 'price': '0.00000768'}, {'symbol': 'SKLBUSD', 'price': '0.30706000'}, {'symbol': 'SKLUSDT', 'price': '0.30704000'}, {'symbol': 'BCHEUR', 'price': '512.46000000'}, {'symbol': 'YFIEUR', 'price': '31809.33000000'}, {'symbol': 'ZILBIDR', 'price': '1578.01'}, {'symbol': 'SUSDBTC', 'price': '0.00002519'}, {'symbol': 'SUSDETH', 'price': '0.00052700'}, {'symbol': 'SUSDUSDT', 'price': '1.00630000'}, {'symbol': 'COVERETH', 'price': '0.10750000'}, {'symbol': 'COVERBUSD', 'price': '271.82000000'}, {'symbol': 'GLMBTC', 'price': '0.00000729'}, {'symbol': 'GLMETH', 'price': '0.00011570'}, {'symbol': 'GHSTETH', 'price': '0.00041680'}, {'symbol': 'GHSTBUSD', 'price': '1.05000000'}, {'symbol': 'SUSHIUPUSDT', 'price': '0.11200000'}, {'symbol': 'SUSHIDOWNUSDT', 'price': '0.01037650'}, {'symbol': 'XLMUPUSDT', 'price': '0.16100000'}, {'symbol': 'XLMDOWNUSDT', 'price': '0.00030400'}, {'symbol': 'LINKBRL', 'price': '123.41000000'}, {'symbol': 'LINKNGN', 'price': '11772.00000000'}, {'symbol': 'LTCRUB', 'price': '12717.30000000'}, {'symbol': 'TRXTRY', 'price': '0.61500000'}, {'symbol': 'XLMEUR', 'price': '0.27920000'}, {'symbol': 'DFETH', 'price': '0.00007480'}, {'symbol': 'DFBUSD', 'price': '0.19000000'}, {'symbol': 'GRTBTC', 'price': '0.00001905'}, {'symbol': 'GRTETH', 'price': '0.00030280'}, {'symbol': 'GRTUSDT', 'price': '0.76200000'}, {'symbol': 'JUVBTC', 'price': '0.00023440'}, {'symbol': 'JUVBUSD', 'price': '9.42000000'}, {'symbol': 'JUVUSDT', 'price': '9.35500000'}, {'symbol': 'PSGBTC', 'price': '0.00038270'}, {'symbol': 'PSGBUSD', 'price': '15.32300000'}, {'symbol': 'PSGUSDT', 'price': '15.35600000'}, {'symbol': 'BUSDBVND', 'price': '24041.00'}, {'symbol': 'USDTBVND', 'price': '24033.00'}, {'symbol': '1INCHBTC', 'price': '0.00009566'}, {'symbol': '1INCHUSDT', 'price': '3.82330000'}, {'symbol': 'REEFBTC', 'price': '0.00000056'}, {'symbol': 'REEFUSDT', 'price': '0.02211500'}, {'symbol': 'OGBTC', 'price': '0.00014550'}, {'symbol': 'OGUSDT', 'price': '5.80600000'}, {'symbol': 'ATMBTC', 'price': '0.00028680'}, {'symbol': 'ATMUSDT', 'price': '11.47700000'}, {'symbol': 'ASRBTC', 'price': '0.00016120'}, {'symbol': 'ASRUSDT', 'price': '6.43000000'}, {'symbol': 'CELOBTC', 'price': '0.00006328'}, {'symbol': 'CELOUSDT', 'price': '2.53330000'}, {'symbol': 'RIFBTC', 'price': '0.00000464'}, {'symbol': 'RIFUSDT', 'price': '0.18600000'}, {'symbol': 'CHZTRY', 'price': '3.05580000'}, {'symbol': 'XLMTRY', 'price': '2.88400000'}, {'symbol': 'LINKGBP', 'price': '17.32300000'}, {'symbol': 'GRTEUR', 'price': '0.62940000'}, {'symbol': 'BTCSTBTC', 'price': '0.00075260'}, {'symbol': 'BTCSTBUSD', 'price': '29.97400000'}, {'symbol': 'BTCSTUSDT', 'price': '30.12900000'}, {'symbol': 'TRUBTC', 'price': '0.00000690'}, {'symbol': 'TRUBUSD', 'price': '0.27500000'}, {'symbol': 'TRUUSDT', 'price': '0.27530000'}, {'symbol': 'DEXEETH', 'price': '0.00218100'}, {'symbol': 'DEXEBUSD', 'price': '5.50600000'}, {'symbol': 'EOSEUR', 'price': '4.27400000'}, {'symbol': 'LTCBRL', 'price': '888.64000000'}, {'symbol': 'USDCBUSD', 'price': '1.00010000'}, {'symbol': 'TUSDBUSD', 'price': '1.00000000'}, {'symbol': 'PAXBUSD', 'price': '1.00010000'}, {'symbol': 'CKBBTC', 'price': '0.00000044'}, {'symbol': 'CKBBUSD', 'price': '0.01775800'}, {'symbol': 'CKBUSDT', 'price': '0.01771200'}, {'symbol': 'TWTBTC', 'price': '0.00000934'}, {'symbol': 'TWTBUSD', 'price': '0.37320000'}, {'symbol': 'TWTUSDT', 'price': '0.37340000'}, {'symbol': 'FIROBTC', 'price': '0.00018050'}, {'symbol': 'FIROETH', 'price': '0.00286900'}, {'symbol': 'FIROUSDT', 'price': '7.23000000'}, {'symbol': 'BETHETH', 'price': '0.94510000'}, {'symbol': 'DOGEEUR', 'price': '0.26209000'}, {'symbol': 'DOGETRY', 'price': '2.70620000'}, {'symbol': 'DOGEAUD', 'price': '0.41250000'}, {'symbol': 'DOGEBRL', 'price': '1.61100000'}, {'symbol': 'DOTNGN', 'price': '10716.00000000'}, {'symbol': 'PROSETH', 'price': '0.00049500'}, {'symbol': 'LITBTC', 'price': '0.00008620'}, {'symbol': 'LITBUSD', 'price': '3.44000000'}, {'symbol': 'LITUSDT', 'price': '3.43920000'}, {'symbol': 'BTCVAI', 'price': '44795.03000000'}, {'symbol': 'BUSDVAI', 'price': '1.11980000'}, {'symbol': 'SFPBTC', 'price': '0.00002734'}, {'symbol': 'SFPBUSD', 'price': '1.09700000'}, {'symbol': 'SFPUSDT', 'price': '1.09250000'}, {'symbol': 'DOGEGBP', 'price': '0.22522000'}, {'symbol': 'DOTTRY', 'price': '206.00000000'}, {'symbol': 'FXSBTC', 'price': '0.00005100'}, {'symbol': 'FXSBUSD', 'price': '2.04500000'}, {'symbol': 'DODOBTC', 'price': '0.00003418'}, {'symbol': 'DODOBUSD', 'price': '1.36500000'}, {'symbol': 'DODOUSDT', 'price': '1.36500000'}, {'symbol': 'FRONTBTC', 'price': '0.00002029'}, {'symbol': 'EASYBTC', 'price': '0.00029250'}, {'symbol': 'CAKEBTC', 'price': '0.00042000'}, {'symbol': 'CAKEUSDT', 'price': '16.81500000'}, {'symbol': 'BAKEBUSD', 'price': '3.19810000'}, {'symbol': 'UFTETH', 'price': '0.00041170'}, {'symbol': 'UFTBUSD', 'price': '1.03550000'}, {'symbol': '1INCHBUSD', 'price': '3.82540000'}, {'symbol': 'BANDBUSD', 'price': '7.26600000'}, {'symbol': 'GRTBUSD', 'price': '0.76150000'}, {'symbol': 'IOSTBUSD', 'price': '0.02820000'}, {'symbol': 'OMGBUSD', 'price': '5.25600000'}, {'symbol': 'REEFBUSD', 'price': '0.02210000'}, {'symbol': 'ACMBTC', 'price': '0.00017510'}, {'symbol': 'ACMBUSD', 'price': '7.01300000'}, {'symbol': 'ACMUSDT', 'price': '7.00300000'}, {'symbol': 'AUCTIONBTC', 'price': '0.00050140'}, {'symbol': 'AUCTIONBUSD', 'price': '20.12700000'}, {'symbol': 'PHABTC', 'price': '0.00002273'}, {'symbol': 'PHABUSD', 'price': '0.91050000'}, {'symbol': 'DOTGBP', 'price': '17.17200000'}, {'symbol': 'ADATRY', 'price': '13.32700000'}, {'symbol': 'ADABRL', 'price': '7.94100000'}, {'symbol': 'ADAGBP', 'price': '1.10990000'}, {'symbol': 'TVKBTC', 'price': '0.00000405'}, {'symbol': 'TVKBUSD', 'price': '0.16190000'}, {'symbol': 'BADGERBTC', 'price': '0.00034090'}, {'symbol': 'BADGERBUSD', 'price': '13.64500000'}, {'symbol': 'BADGERUSDT', 'price': '13.73300000'}, {'symbol': 'FISBTC', 'price': '0.00003110'}, {'symbol': 'FISBUSD', 'price': '1.24000000'}, {'symbol': 'FISUSDT', 'price': '1.24300000'}, {'symbol': 'DOTBRL', 'price': '123.05000000'}, {'symbol': 'ADAAUD', 'price': '2.03300000'}, {'symbol': 'HOTTRY', 'price': '0.06806000'}, {'symbol': 'EGLDEUR', 'price': '73.27000000'}, {'symbol': 'OMBTC', 'price': '0.00000394'}, {'symbol': 'OMBUSD', 'price': '0.15780000'}, {'symbol': 'OMUSDT', 'price': '0.15730000'}, {'symbol': 'PONDBTC', 'price': '0.00000234'}, {'symbol': 'PONDBUSD', 'price': '0.09380000'}, {'symbol': 'PONDUSDT', 'price': '0.09370000'}, {'symbol': 'DEGOBTC', 'price': '0.00017120'}, {'symbol': 'DEGOBUSD', 'price': '6.85200000'}, {'symbol': 'DEGOUSDT', 'price': '6.83400000'}, {'symbol': 'AVAXEUR', 'price': '12.10900000'}, {'symbol': 'BTTTRY', 'price': '0.02946000'}, {'symbol': 'CHZBRL', 'price': '1.82100000'}, {'symbol': 'UNIEUR', 'price': '19.10700000'}, {'symbol': 'ALICEBTC', 'price': '0.00014732'}, {'symbol': 'ALICEBUSD', 'price': '5.90000000'}, {'symbol': 'ALICEUSDT', 'price': '5.89980000'}, {'symbol': 'CHZBUSD', 'price': '0.35830000'}, {'symbol': 'CHZEUR', 'price': '0.29600000'}, {'symbol': 'CHZGBP', 'price': '0.25430000'}, {'symbol': 'BIFIBNB', 'price': '4.26600000'}, {'symbol': 'BIFIBUSD', 'price': '1551.21000000'}, {'symbol': 'LINABTC', 'price': '0.00000090'}, {'symbol': 'LINABUSD', 'price': '0.03590000'}, {'symbol': 'LINAUSDT', 'price': '0.03590000'}, {'symbol': 'ADARUB', 'price': '113.65000000'}, {'symbol': 'ENJBRL', 'price': '7.72100000'}, {'symbol': 'ENJEUR', 'price': '1.25700000'}, {'symbol': 'MATICEUR', 'price': '1.32600000'}, {'symbol': 'NEOTRY', 'price': '429.00000000'}, {'symbol': 'PERPBTC', 'price': '0.00020400'}, {'symbol': 'PERPBUSD', 'price': '8.16800000'}, {'symbol': 'PERPUSDT', 'price': '8.17200000'}, {'symbol': 'RAMPBTC', 'price': '0.00000554'}, {'symbol': 'RAMPBUSD', 'price': '0.22280000'}, {'symbol': 'RAMPUSDT', 'price': '0.22310000'}, {'symbol': 'SUPERBTC', 'price': '0.00001546'}, {'symbol': 'SUPERBUSD', 'price': '0.61900000'}, {'symbol': 'SUPERUSDT', 'price': '0.61900000'}, {'symbol': 'CFXBTC', 'price': '0.00000836'}, {'symbol': 'CFXBUSD', 'price': '0.33500000'}, {'symbol': 'CFXUSDT', 'price': '0.33400000'}, {'symbol': 'ENJGBP', 'price': '1.07980000'}, {'symbol': 'EOSTRY', 'price': '44.08000000'}, {'symbol': 'LTCGBP', 'price': '124.21000000'}, {'symbol': 'LUNAEUR', 'price': '5.28400000'}, {'symbol': 'RVNTRY', 'price': '0.64400000'}, {'symbol': 'THETAEUR', 'price': '7.44400000'}, {'symbol': 'XVGBUSD', 'price': '0.02868000'}, {'symbol': 'EPSBTC', 'price': '0.00001657'}, {'symbol': 'EPSBUSD', 'price': '0.66200000'}, {'symbol': 'EPSUSDT', 'price': '0.66200000'}, {'symbol': 'AUTOBTC', 'price': '0.03280000'}, {'symbol': 'AUTOBUSD', 'price': '1310.39000000'}, {'symbol': 'AUTOUSDT', 'price': '1313.82000000'}, {'symbol': 'TKOBTC', 'price': '0.00004799'}, {'symbol': 'TKOBIDR', 'price': '27500.00'}, {'symbol': 'TKOBUSD', 'price': '1.91920000'}, {'symbol': 'TKOUSDT', 'price': '1.91720000'}, {'symbol': 'PUNDIXETH', 'price': '0.00053100'}, {'symbol': 'PUNDIXUSDT', 'price': '1.34100000'}, {'symbol': 'BTTBRL', 'price': '0.01754000'}, {'symbol': 'BTTEUR', 'price': '0.00285500'}, {'symbol': 'HOTEUR', 'price': '0.00660000'}, {'symbol': 'WINEUR', 'price': '0.00039600'}, {'symbol': 'TLMBTC', 'price': '0.00000365'}, {'symbol': 'TLMBUSD', 'price': '0.14630000'}, {'symbol': 'TLMUSDT', 'price': '0.14600000'}, {'symbol': '1INCHUPUSDT', 'price': '0.13996100'}, {'symbol': '1INCHDOWNUSDT', 'price': '0.34100000'}, {'symbol': 'BTGBUSD', 'price': '57.10600000'}, {'symbol': 'BTGUSDT', 'price': '57.24700000'}, {'symbol': 'HOTBUSD', 'price': '0.00801000'}, {'symbol': 'BNBUAH', 'price': '9910.10000000'}, {'symbol': 'ONTTRY', 'price': '8.14000000'}, {'symbol': 'VETEUR', 'price': '0.09250000'}, {'symbol': 'VETGBP', 'price': '0.07960000'}, {'symbol': 'WINBRL', 'price': '0.00243800'}, {'symbol': 'MIRBTC', 'price': '0.00010050'}, {'symbol': 'MIRBUSD', 'price': '4.02200000'}, {'symbol': 'MIRUSDT', 'price': '4.02000000'}, {'symbol': 'BARBTC', 'price': '0.00044200'}, {'symbol': 'BARBUSD', 'price': '17.63300000'}, {'symbol': 'BARUSDT', 'price': '17.65600000'}, {'symbol': 'FORTHBTC', 'price': '0.00042610'}, {'symbol': 'FORTHBUSD', 'price': '17.07000000'}, {'symbol': 'FORTHUSDT', 'price': '17.04800000'}, {'symbol': 'CAKEGBP', 'price': '11.93600000'}, {'symbol': 'DOGERUB', 'price': '23.05000000'}, {'symbol': 'HOTBRL', 'price': '0.04070000'}, {'symbol': 'WRXEUR', 'price': '1.32600000'}, {'symbol': 'EZBTC', 'price': '0.00011210'}, {'symbol': 'EZETH', 'price': '0.00177900'}, {'symbol': 'BAKEUSDT', 'price': '3.19480000'}, {'symbol': 'BURGERBUSD', 'price': '5.51000000'}, {'symbol': 'BURGERUSDT', 'price': '5.49000000'}, {'symbol': 'SLPBUSD', 'price': '0.13840000'}, {'symbol': 'SLPUSDT', 'price': '0.13900000'}, {'symbol': 'TRXAUD', 'price': '0.09390000'}, {'symbol': 'TRXEUR', 'price': '0.05970000'}, {'symbol': 'VETTRY', 'price': '0.95500000'}, {'symbol': 'SHIBUSDT', 'price': '0.00000881'}, {'symbol': 'SHIBBUSD', 'price': '0.00000881'}, {'symbol': 'ICPBTC', 'price': '0.00145700'}, {'symbol': 'ICPBNB', 'price': '0.16040000'}, {'symbol': 'ICPBUSD', 'price': '58.28000000'}, {'symbol': 'ICPUSDT', 'price': '58.28000000'}, {'symbol': 'BTCGYEN', 'price': '4300000.00000000'}, {'symbol': 'USDTGYEN', 'price': '85.00000000'}, {'symbol': 'SHIBEUR', 'price': '0.00000728'}, {'symbol': 'SHIBRUB', 'price': '0.00064100'}, {'symbol': 'ETCEUR', 'price': '47.66800000'}, {'symbol': 'ETCBRL', 'price': '293.35000000'}, {'symbol': 'DOGEBIDR', 'price': '4545.00'}, {'symbol': 'ARBTC', 'price': '0.00038520'}, {'symbol': 'ARBNB', 'price': '0.04237000'}, {'symbol': 'ARBUSD', 'price': '15.52400000'}, {'symbol': 'ARUSDT', 'price': '15.51800000'}, {'symbol': 'POLSBTC', 'price': '0.00003446'}, {'symbol': 'POLSBNB', 'price': '0.00378300'}, {'symbol': 'POLSBUSD', 'price': '1.38400000'}, {'symbol': 'POLSUSDT', 'price': '1.37900000'}, {'symbol': 'MDXBTC', 'price': '0.00005116'}, {'symbol': 'MDXBNB', 'price': '0.00567000'}, {'symbol': 'MDXBUSD', 'price': '2.04760000'}, {'symbol': 'MDXUSDT', 'price': '2.04480000'}, {'symbol': 'MASKBNB', 'price': '0.01296000'}, {'symbol': 'MASKBUSD', 'price': '4.72500000'}, {'symbol': 'MASKUSDT', 'price': '4.69900000'}, {'symbol': 'LPTBTC', 'price': '0.00066590'}, {'symbol': 'LPTBNB', 'price': '0.07339000'}, {'symbol': 'LPTBUSD', 'price': '26.73000000'}, {'symbol': 'LPTUSDT', 'price': '26.63000000'}, {'symbol': 'ETHUAH', 'price': '68697.00000000'}, {'symbol': 'MATICBRL', 'price': '8.15300000'}, {'symbol': 'SOLEUR', 'price': '32.63000000'}, {'symbol': 'SHIBBRL', 'price': '0.00004476'}, {'symbol': 'AGIXBTC', 'price': '0.00000544'}, {'symbol': 'ICPEUR', 'price': '48.19000000'}, {'symbol': 'MATICGBP', 'price': '1.14300000'}, {'symbol': 'SHIBTRY', 'price': '0.00007517'}, {'symbol': 'MATICBIDR', 'price': '23016.00'}, {'symbol': 'MATICRUB', 'price': '116.60000000'}, {'symbol': 'NUBTC', 'price': '0.00000740'}, {'symbol': 'NUBNB', 'price': '0.00081460'}, {'symbol': 'NUBUSD', 'price': '0.29630000'}, {'symbol': 'NUUSDT', 'price': '0.29600000'}, {'symbol': 'XVGUSDT', 'price': '0.02866000'}, {'symbol': 'RLCBUSD', 'price': '4.00600000'}, {'symbol': 'CELRBUSD', 'price': '0.03907000'}, {'symbol': 'ATMBUSD', 'price': '11.49000000'}, {'symbol': 'ZENBUSD', 'price': '88.90000000'}, {'symbol': 'FTMBUSD', 'price': '0.28500000'}, {'symbol': 'THETABUSD', 'price': '9.01600000'}, {'symbol': 'WINBUSD', 'price': '0.00048010'}, {'symbol': 'KAVABUSD', 'price': '4.42900000'}, {'symbol': 'XEMBUSD', 'price': '0.17180000'}, {'symbol': 'ATABTC', 'price': '0.00002387'}, {'symbol': 'ATABNB', 'price': '0.00262970'}, {'symbol': 'ATABUSD', 'price': '0.95457000'}, {'symbol': 'ATAUSDT', 'price': '0.95511000'}, {'symbol': 'GTCBTC', 'price': '0.00025590'}, {'symbol': 'GTCBNB', 'price': '0.02814000'}, {'symbol': 'GTCBUSD', 'price': '10.26000000'}, {'symbol': 'GTCUSDT', 'price': '10.28000000'}, {'symbol': 'TORNBTC', 'price': '0.00137260'}, {'symbol': 'TORNBNB', 'price': '0.15190000'}, {'symbol': 'TORNBUSD', 'price': '55.18000000'}, {'symbol': 'TORNUSDT', 'price': '55.44000000'}, {'symbol': 'MATICTRY', 'price': '13.65000000'}, {'symbol': 'ETCGBP', 'price': '40.79000000'}, {'symbol': 'SOLGBP', 'price': '27.97000000'}, {'symbol': 'BAKEBTC', 'price': '0.00007980'}, {'symbol': 'COTIBUSD', 'price': '0.20710000'}]\n"
          ],
          "name": "stdout"
        }
      ]
    },
    {
      "cell_type": "code",
      "metadata": {
        "colab": {
          "base_uri": "https://localhost:8080/",
          "height": 450
        },
        "id": "SlIg7__o_uUG",
        "outputId": "ceed72c0-2b08-4df6-edf7-0fdf62d5780b"
      },
      "source": [
        "df1 = pd.DataFrame(tickers)\n",
        "df1.set_index('symbol', inplace=True)\n",
        "df1"
      ],
      "execution_count": 10,
      "outputs": [
        {
          "output_type": "execute_result",
          "data": {
            "text/html": [
              "<div>\n",
              "<style scoped>\n",
              "    .dataframe tbody tr th:only-of-type {\n",
              "        vertical-align: middle;\n",
              "    }\n",
              "\n",
              "    .dataframe tbody tr th {\n",
              "        vertical-align: top;\n",
              "    }\n",
              "\n",
              "    .dataframe thead th {\n",
              "        text-align: right;\n",
              "    }\n",
              "</style>\n",
              "<table border=\"1\" class=\"dataframe\">\n",
              "  <thead>\n",
              "    <tr style=\"text-align: right;\">\n",
              "      <th></th>\n",
              "      <th>price</th>\n",
              "    </tr>\n",
              "    <tr>\n",
              "      <th>symbol</th>\n",
              "      <th></th>\n",
              "    </tr>\n",
              "  </thead>\n",
              "  <tbody>\n",
              "    <tr>\n",
              "      <th>ETHBTC</th>\n",
              "      <td>0.06299500</td>\n",
              "    </tr>\n",
              "    <tr>\n",
              "      <th>LTCBTC</th>\n",
              "      <td>0.00437000</td>\n",
              "    </tr>\n",
              "    <tr>\n",
              "      <th>BNBBTC</th>\n",
              "      <td>0.00908300</td>\n",
              "    </tr>\n",
              "    <tr>\n",
              "      <th>NEOBTC</th>\n",
              "      <td>0.00125700</td>\n",
              "    </tr>\n",
              "    <tr>\n",
              "      <th>QTUMETH</th>\n",
              "      <td>0.00361900</td>\n",
              "    </tr>\n",
              "    <tr>\n",
              "      <th>...</th>\n",
              "      <td>...</td>\n",
              "    </tr>\n",
              "    <tr>\n",
              "      <th>MATICTRY</th>\n",
              "      <td>13.65000000</td>\n",
              "    </tr>\n",
              "    <tr>\n",
              "      <th>ETCGBP</th>\n",
              "      <td>40.79000000</td>\n",
              "    </tr>\n",
              "    <tr>\n",
              "      <th>SOLGBP</th>\n",
              "      <td>27.97000000</td>\n",
              "    </tr>\n",
              "    <tr>\n",
              "      <th>BAKEBTC</th>\n",
              "      <td>0.00007980</td>\n",
              "    </tr>\n",
              "    <tr>\n",
              "      <th>COTIBUSD</th>\n",
              "      <td>0.20710000</td>\n",
              "    </tr>\n",
              "  </tbody>\n",
              "</table>\n",
              "<p>1501 rows × 1 columns</p>\n",
              "</div>"
            ],
            "text/plain": [
              "                price\n",
              "symbol               \n",
              "ETHBTC     0.06299500\n",
              "LTCBTC     0.00437000\n",
              "BNBBTC     0.00908300\n",
              "NEOBTC     0.00125700\n",
              "QTUMETH    0.00361900\n",
              "...               ...\n",
              "MATICTRY  13.65000000\n",
              "ETCGBP    40.79000000\n",
              "SOLGBP    27.97000000\n",
              "BAKEBTC    0.00007980\n",
              "COTIBUSD   0.20710000\n",
              "\n",
              "[1501 rows x 1 columns]"
            ]
          },
          "metadata": {
            "tags": []
          },
          "execution_count": 10
        }
      ]
    },
    {
      "cell_type": "code",
      "metadata": {
        "id": "o_CJlYq3_-hU"
      },
      "source": [
        "def get_depth_df(Client, name=\"ETHBTC\"):\n",
        "  depth = Client.get_order_book(symbol=name)\n",
        "  df_bids = pd.DataFrame(depth['bids'])\n",
        "  df_bids.columns = ['Bid_Price', 'Bid_Volume']\n",
        "  df_asks = pd.DataFrame(depth['asks'])\n",
        "  df_asks.columns = ['Ask_Price', 'Ask_Volume']\n",
        "  bids_and_asks = pd.concat([df_bids, df_asks], axis=1)\n",
        "  bids_and_asks.index = pd.DataFrame(depth)['lastUpdateId']\n",
        "  for column in bids_and_asks.columns:\n",
        "    bids_and_asks[column] = pd.to_numeric(bids_and_asks[column])\n",
        "  return bids_and_asks\n"
      ],
      "execution_count": 35,
      "outputs": []
    },
    {
      "cell_type": "code",
      "metadata": {
        "colab": {
          "base_uri": "https://localhost:8080/",
          "height": 450
        },
        "id": "XMLFXtD7LlC7",
        "outputId": "bf38f242-4ba0-4e29-ac3f-64464c3deb60"
      },
      "source": [
        "df_btc = get_depth_df(client, 'BTCUSDT')\n",
        "df_btc"
      ],
      "execution_count": 36,
      "outputs": [
        {
          "output_type": "execute_result",
          "data": {
            "text/html": [
              "<div>\n",
              "<style scoped>\n",
              "    .dataframe tbody tr th:only-of-type {\n",
              "        vertical-align: middle;\n",
              "    }\n",
              "\n",
              "    .dataframe tbody tr th {\n",
              "        vertical-align: top;\n",
              "    }\n",
              "\n",
              "    .dataframe thead th {\n",
              "        text-align: right;\n",
              "    }\n",
              "</style>\n",
              "<table border=\"1\" class=\"dataframe\">\n",
              "  <thead>\n",
              "    <tr style=\"text-align: right;\">\n",
              "      <th></th>\n",
              "      <th>Bid_Price</th>\n",
              "      <th>Bid_Volume</th>\n",
              "      <th>Ask_Price</th>\n",
              "      <th>Ask_Volume</th>\n",
              "    </tr>\n",
              "    <tr>\n",
              "      <th>lastUpdateId</th>\n",
              "      <th></th>\n",
              "      <th></th>\n",
              "      <th></th>\n",
              "      <th></th>\n",
              "    </tr>\n",
              "  </thead>\n",
              "  <tbody>\n",
              "    <tr>\n",
              "      <th>11735904329</th>\n",
              "      <td>40081.93</td>\n",
              "      <td>0.878046</td>\n",
              "      <td>40081.94</td>\n",
              "      <td>0.025991</td>\n",
              "    </tr>\n",
              "    <tr>\n",
              "      <th>11735904329</th>\n",
              "      <td>40080.41</td>\n",
              "      <td>0.014916</td>\n",
              "      <td>40083.69</td>\n",
              "      <td>0.125205</td>\n",
              "    </tr>\n",
              "    <tr>\n",
              "      <th>11735904329</th>\n",
              "      <td>40080.01</td>\n",
              "      <td>0.018171</td>\n",
              "      <td>40083.70</td>\n",
              "      <td>0.000621</td>\n",
              "    </tr>\n",
              "    <tr>\n",
              "      <th>11735904329</th>\n",
              "      <td>40079.99</td>\n",
              "      <td>0.018148</td>\n",
              "      <td>40084.00</td>\n",
              "      <td>0.003083</td>\n",
              "    </tr>\n",
              "    <tr>\n",
              "      <th>11735904329</th>\n",
              "      <td>40079.78</td>\n",
              "      <td>0.449134</td>\n",
              "      <td>40084.48</td>\n",
              "      <td>0.226471</td>\n",
              "    </tr>\n",
              "    <tr>\n",
              "      <th>...</th>\n",
              "      <td>...</td>\n",
              "      <td>...</td>\n",
              "      <td>...</td>\n",
              "      <td>...</td>\n",
              "    </tr>\n",
              "    <tr>\n",
              "      <th>11735904329</th>\n",
              "      <td>40051.39</td>\n",
              "      <td>0.377762</td>\n",
              "      <td>40115.02</td>\n",
              "      <td>0.008777</td>\n",
              "    </tr>\n",
              "    <tr>\n",
              "      <th>11735904329</th>\n",
              "      <td>40051.14</td>\n",
              "      <td>0.002986</td>\n",
              "      <td>40115.33</td>\n",
              "      <td>0.000462</td>\n",
              "    </tr>\n",
              "    <tr>\n",
              "      <th>11735904329</th>\n",
              "      <td>40051.10</td>\n",
              "      <td>0.120000</td>\n",
              "      <td>40115.48</td>\n",
              "      <td>0.298240</td>\n",
              "    </tr>\n",
              "    <tr>\n",
              "      <th>11735904329</th>\n",
              "      <td>40050.48</td>\n",
              "      <td>0.000925</td>\n",
              "      <td>40115.62</td>\n",
              "      <td>0.010000</td>\n",
              "    </tr>\n",
              "    <tr>\n",
              "      <th>11735904329</th>\n",
              "      <td>40050.47</td>\n",
              "      <td>0.100000</td>\n",
              "      <td>40116.00</td>\n",
              "      <td>1.978974</td>\n",
              "    </tr>\n",
              "  </tbody>\n",
              "</table>\n",
              "<p>100 rows × 4 columns</p>\n",
              "</div>"
            ],
            "text/plain": [
              "              Bid_Price  Bid_Volume  Ask_Price  Ask_Volume\n",
              "lastUpdateId                                              \n",
              "11735904329    40081.93    0.878046   40081.94    0.025991\n",
              "11735904329    40080.41    0.014916   40083.69    0.125205\n",
              "11735904329    40080.01    0.018171   40083.70    0.000621\n",
              "11735904329    40079.99    0.018148   40084.00    0.003083\n",
              "11735904329    40079.78    0.449134   40084.48    0.226471\n",
              "...                 ...         ...        ...         ...\n",
              "11735904329    40051.39    0.377762   40115.02    0.008777\n",
              "11735904329    40051.14    0.002986   40115.33    0.000462\n",
              "11735904329    40051.10    0.120000   40115.48    0.298240\n",
              "11735904329    40050.48    0.000925   40115.62    0.010000\n",
              "11735904329    40050.47    0.100000   40116.00    1.978974\n",
              "\n",
              "[100 rows x 4 columns]"
            ]
          },
          "metadata": {
            "tags": []
          },
          "execution_count": 36
        }
      ]
    },
    {
      "cell_type": "code",
      "metadata": {
        "id": "2ADUfJXcIkb-"
      },
      "source": [
        "def get_historic_data(Client, name='BTCUSDT', interval = Client.KLINE_INTERVAL_1DAY, date='1 Jan 2011'):\n",
        "  history = Client.get_historical_klines(name, interval, date)\n",
        "  df_cols = ['Open time', 'Open', 'High', \"Low\", 'Close', 'Volume', 'Close Time', 'Quote Asset Volume', 'Number of Trades', 'buy base asset volume', 'buy quote asset volume', 'Ignore']\n",
        "  history_df = pd.DataFrame(history)\n",
        "  history_df.columns = df_cols\n",
        "  for column in history_df.columns:\n",
        "    history_df[column] = pd.to_numeric(history_df[column])\n",
        "  return history_df"
      ],
      "execution_count": 48,
      "outputs": []
    },
    {
      "cell_type": "code",
      "metadata": {
        "colab": {
          "base_uri": "https://localhost:8080/",
          "height": 473
        },
        "id": "KP-iLO59QCQj",
        "outputId": "c936bf06-cb0a-4fc9-fb0b-1268afcd09b7"
      },
      "source": [
        "btc_history = get_historic_data(client)\n",
        "btc_history"
      ],
      "execution_count": 49,
      "outputs": [
        {
          "output_type": "execute_result",
          "data": {
            "text/html": [
              "<div>\n",
              "<style scoped>\n",
              "    .dataframe tbody tr th:only-of-type {\n",
              "        vertical-align: middle;\n",
              "    }\n",
              "\n",
              "    .dataframe tbody tr th {\n",
              "        vertical-align: top;\n",
              "    }\n",
              "\n",
              "    .dataframe thead th {\n",
              "        text-align: right;\n",
              "    }\n",
              "</style>\n",
              "<table border=\"1\" class=\"dataframe\">\n",
              "  <thead>\n",
              "    <tr style=\"text-align: right;\">\n",
              "      <th></th>\n",
              "      <th>Open time</th>\n",
              "      <th>Open</th>\n",
              "      <th>High</th>\n",
              "      <th>Low</th>\n",
              "      <th>Close</th>\n",
              "      <th>Volume</th>\n",
              "      <th>Close Time</th>\n",
              "      <th>Quote Asset Volume</th>\n",
              "      <th>Number of Trades</th>\n",
              "      <th>buy base asset volume</th>\n",
              "      <th>buy quote asset volume</th>\n",
              "      <th>Ignore</th>\n",
              "    </tr>\n",
              "  </thead>\n",
              "  <tbody>\n",
              "    <tr>\n",
              "      <th>0</th>\n",
              "      <td>1502928000000</td>\n",
              "      <td>4261.48</td>\n",
              "      <td>4485.39</td>\n",
              "      <td>4200.74</td>\n",
              "      <td>4285.08</td>\n",
              "      <td>795.150377</td>\n",
              "      <td>1503014399999</td>\n",
              "      <td>3.454770e+06</td>\n",
              "      <td>3427</td>\n",
              "      <td>616.248541</td>\n",
              "      <td>2.678216e+06</td>\n",
              "      <td>8733.911395</td>\n",
              "    </tr>\n",
              "    <tr>\n",
              "      <th>1</th>\n",
              "      <td>1503014400000</td>\n",
              "      <td>4285.08</td>\n",
              "      <td>4371.52</td>\n",
              "      <td>3938.77</td>\n",
              "      <td>4108.37</td>\n",
              "      <td>1199.888264</td>\n",
              "      <td>1503100799999</td>\n",
              "      <td>5.086958e+06</td>\n",
              "      <td>5233</td>\n",
              "      <td>972.868710</td>\n",
              "      <td>4.129123e+06</td>\n",
              "      <td>9384.141409</td>\n",
              "    </tr>\n",
              "    <tr>\n",
              "      <th>2</th>\n",
              "      <td>1503100800000</td>\n",
              "      <td>4108.37</td>\n",
              "      <td>4184.69</td>\n",
              "      <td>3850.00</td>\n",
              "      <td>4139.98</td>\n",
              "      <td>381.309763</td>\n",
              "      <td>1503187199999</td>\n",
              "      <td>1.549484e+06</td>\n",
              "      <td>2153</td>\n",
              "      <td>274.336042</td>\n",
              "      <td>1.118002e+06</td>\n",
              "      <td>9184.085529</td>\n",
              "    </tr>\n",
              "    <tr>\n",
              "      <th>3</th>\n",
              "      <td>1503187200000</td>\n",
              "      <td>4120.98</td>\n",
              "      <td>4211.08</td>\n",
              "      <td>4032.62</td>\n",
              "      <td>4086.29</td>\n",
              "      <td>467.083022</td>\n",
              "      <td>1503273599999</td>\n",
              "      <td>1.930364e+06</td>\n",
              "      <td>2321</td>\n",
              "      <td>376.795947</td>\n",
              "      <td>1.557401e+06</td>\n",
              "      <td>10125.414084</td>\n",
              "    </tr>\n",
              "    <tr>\n",
              "      <th>4</th>\n",
              "      <td>1503273600000</td>\n",
              "      <td>4069.13</td>\n",
              "      <td>4119.62</td>\n",
              "      <td>3911.79</td>\n",
              "      <td>4016.00</td>\n",
              "      <td>691.743060</td>\n",
              "      <td>1503359999999</td>\n",
              "      <td>2.797232e+06</td>\n",
              "      <td>3972</td>\n",
              "      <td>557.356107</td>\n",
              "      <td>2.255663e+06</td>\n",
              "      <td>11706.769970</td>\n",
              "    </tr>\n",
              "    <tr>\n",
              "      <th>...</th>\n",
              "      <td>...</td>\n",
              "      <td>...</td>\n",
              "      <td>...</td>\n",
              "      <td>...</td>\n",
              "      <td>...</td>\n",
              "      <td>...</td>\n",
              "      <td>...</td>\n",
              "      <td>...</td>\n",
              "      <td>...</td>\n",
              "      <td>...</td>\n",
              "      <td>...</td>\n",
              "      <td>...</td>\n",
              "    </tr>\n",
              "    <tr>\n",
              "      <th>1395</th>\n",
              "      <td>1623456000000</td>\n",
              "      <td>37331.98</td>\n",
              "      <td>37463.63</td>\n",
              "      <td>34600.36</td>\n",
              "      <td>35546.11</td>\n",
              "      <td>87717.549990</td>\n",
              "      <td>1623542399999</td>\n",
              "      <td>3.132387e+09</td>\n",
              "      <td>1719650</td>\n",
              "      <td>42571.205313</td>\n",
              "      <td>1.520433e+09</td>\n",
              "      <td>0.000000</td>\n",
              "    </tr>\n",
              "    <tr>\n",
              "      <th>1396</th>\n",
              "      <td>1623542400000</td>\n",
              "      <td>35546.12</td>\n",
              "      <td>39380.00</td>\n",
              "      <td>34757.00</td>\n",
              "      <td>39020.57</td>\n",
              "      <td>86921.025555</td>\n",
              "      <td>1623628799999</td>\n",
              "      <td>3.208992e+09</td>\n",
              "      <td>1894103</td>\n",
              "      <td>45675.273616</td>\n",
              "      <td>1.688611e+09</td>\n",
              "      <td>0.000000</td>\n",
              "    </tr>\n",
              "    <tr>\n",
              "      <th>1397</th>\n",
              "      <td>1623628800000</td>\n",
              "      <td>39020.56</td>\n",
              "      <td>41064.05</td>\n",
              "      <td>38730.00</td>\n",
              "      <td>40516.29</td>\n",
              "      <td>108522.391949</td>\n",
              "      <td>1623715199999</td>\n",
              "      <td>4.320308e+09</td>\n",
              "      <td>2185089</td>\n",
              "      <td>53645.908744</td>\n",
              "      <td>2.135286e+09</td>\n",
              "      <td>0.000000</td>\n",
              "    </tr>\n",
              "    <tr>\n",
              "      <th>1398</th>\n",
              "      <td>1623715200000</td>\n",
              "      <td>40516.28</td>\n",
              "      <td>41330.00</td>\n",
              "      <td>39506.40</td>\n",
              "      <td>40144.04</td>\n",
              "      <td>80679.622838</td>\n",
              "      <td>1623801599999</td>\n",
              "      <td>3.247747e+09</td>\n",
              "      <td>1931890</td>\n",
              "      <td>39428.829726</td>\n",
              "      <td>1.587382e+09</td>\n",
              "      <td>0.000000</td>\n",
              "    </tr>\n",
              "    <tr>\n",
              "      <th>1399</th>\n",
              "      <td>1623801600000</td>\n",
              "      <td>40143.80</td>\n",
              "      <td>40527.14</td>\n",
              "      <td>39610.00</td>\n",
              "      <td>39940.70</td>\n",
              "      <td>27408.437742</td>\n",
              "      <td>1623887999999</td>\n",
              "      <td>1.100307e+09</td>\n",
              "      <td>818625</td>\n",
              "      <td>13286.613864</td>\n",
              "      <td>5.333015e+08</td>\n",
              "      <td>0.000000</td>\n",
              "    </tr>\n",
              "  </tbody>\n",
              "</table>\n",
              "<p>1400 rows × 12 columns</p>\n",
              "</div>"
            ],
            "text/plain": [
              "          Open time      Open  ...  buy quote asset volume        Ignore\n",
              "0     1502928000000   4261.48  ...            2.678216e+06   8733.911395\n",
              "1     1503014400000   4285.08  ...            4.129123e+06   9384.141409\n",
              "2     1503100800000   4108.37  ...            1.118002e+06   9184.085529\n",
              "3     1503187200000   4120.98  ...            1.557401e+06  10125.414084\n",
              "4     1503273600000   4069.13  ...            2.255663e+06  11706.769970\n",
              "...             ...       ...  ...                     ...           ...\n",
              "1395  1623456000000  37331.98  ...            1.520433e+09      0.000000\n",
              "1396  1623542400000  35546.12  ...            1.688611e+09      0.000000\n",
              "1397  1623628800000  39020.56  ...            2.135286e+09      0.000000\n",
              "1398  1623715200000  40516.28  ...            1.587382e+09      0.000000\n",
              "1399  1623801600000  40143.80  ...            5.333015e+08      0.000000\n",
              "\n",
              "[1400 rows x 12 columns]"
            ]
          },
          "metadata": {
            "tags": []
          },
          "execution_count": 49
        }
      ]
    },
    {
      "cell_type": "code",
      "metadata": {
        "colab": {
          "base_uri": "https://localhost:8080/",
          "height": 282
        },
        "id": "vEhshCkaQVrx",
        "outputId": "682cf839-5322-4a76-c4da-5b8cee24b22a"
      },
      "source": [
        "btc_history.iloc[:, 1:5].plot()"
      ],
      "execution_count": 55,
      "outputs": [
        {
          "output_type": "execute_result",
          "data": {
            "text/plain": [
              "<matplotlib.axes._subplots.AxesSubplot at 0x7f4a50096310>"
            ]
          },
          "metadata": {
            "tags": []
          },
          "execution_count": 55
        },
        {
          "output_type": "display_data",
          "data": {
            "image/png": "[encoded data removed]",
            "text/plain": [
              "<Figure size 432x288 with 1 Axes>"
            ]
          },
          "metadata": {
            "tags": [],
            "needs_background": "light"
          }
        }
      ]
    },
    {
      "cell_type": "code",
      "metadata": {
        "id": "oLfUic94SYWS"
      },
      "source": [
        ""
      ],
      "execution_count": null,
      "outputs": []
    }
  ]
}