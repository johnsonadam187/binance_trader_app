{
  "nbformat": 4,
  "nbformat_minor": 0,
  "metadata": {
    "colab": {
      "name": "Binance_trader.ipynb",
      "provenance": [],
      "collapsed_sections": [],
      "authorship_tag": "ABX9TyPxUXOy6EoeYtUfsHmyJgcL",
      "include_colab_link": true
    },
    "kernelspec": {
      "name": "python3",
      "display_name": "Python 3"
    },
    "language_info": {
      "name": "python"
    }
  },
  "cells": [
    {
      "cell_type": "markdown",
      "metadata": {
        "id": "view-in-github",
        "colab_type": "text"
      },
      "source": [
        "<a href=\"https://colab.research.google.com/github/johnsonadam187/binance_trader_app/blob/Dev/Binance_trader.ipynb\" target=\"_parent\"><img src=\"https://colab.research.google.com/assets/colab-badge.svg\" alt=\"Open In Colab\"/></a>"
      ]
    },
    {
      "cell_type": "markdown",
      "metadata": {
        "id": "-o0IWdkU-SEC"
      },
      "source": [
        "Authentication\n"
      ]
    },
    {
      "cell_type": "code",
      "metadata": {
        "id": "_0tGl9vA9IbZ"
      },
      "source": [
        "api_key = 'Buw50cp1iDCVR9ErLEgSsn2Y0Yk4ToVH1tbsZxQO2FLJOxdkgKwzTyui4tHx60vl'\n",
        "secret_key  = 'UkW9eYi3X47Q0Pi1ZER6OK80vBmzX7cIXtpCqBI4FSGrzQIwyuKC00aPemBHmQ3K'"
      ],
      "execution_count": 1,
      "outputs": []
    },
    {
      "cell_type": "code",
      "metadata": {
        "colab": {
          "base_uri": "https://localhost:8080/"
        },
        "id": "h6xUBTdm-ZRh",
        "outputId": "8275d6d1-0ddd-4da7-8e7b-407683b35d6b"
      },
      "source": [
        "!pip install python-binance mplfinance "
      ],
      "execution_count": 2,
      "outputs": [
        {
          "output_type": "stream",
          "text": [
            "Collecting python-binance\n",
            "\u001b[?25l  Downloading https://files.pythonhosted.org/packages/db/1b/97beaa5f8f71a76e1f7492be33279cf920a37d1f385ffff5c26827781f02/python_binance-1.0.12-py2.py3-none-any.whl (58kB)\n",
            "\u001b[K     |████████████████████████████████| 61kB 3.5MB/s \n",
            "\u001b[?25hCollecting mplfinance\n",
            "\u001b[?25l  Downloading https://files.pythonhosted.org/packages/3f/4e/a3de915df8d112579beb3df22e47b3929670b10e9c5dfd4a2b31bf1a34a7/mplfinance-0.12.7a17-py3-none-any.whl (62kB)\n",
            "\u001b[K     |████████████████████████████████| 71kB 4.2MB/s \n",
            "\u001b[?25hCollecting aiohttp\n",
            "\u001b[?25l  Downloading https://files.pythonhosted.org/packages/88/c0/5890b4c8b04a79b7360e8fe4490feb0bb3ab179743f199f0e6220cebd568/aiohttp-3.7.4.post0-cp37-cp37m-manylinux2014_x86_64.whl (1.3MB)\n",
            "\u001b[K     |████████████████████████████████| 1.3MB 25.8MB/s \n",
            "\u001b[?25hRequirement already satisfied: six in /usr/local/lib/python3.7/dist-packages (from python-binance) (1.15.0)\n",
            "Collecting websockets\n",
            "\u001b[?25l  Downloading https://files.pythonhosted.org/packages/84/64/78c2b3fe37730b30dca3c93d1f7f4a4286767f86e7c04cf3571b39bc2fb7/websockets-9.1-cp37-cp37m-manylinux2010_x86_64.whl (103kB)\n",
            "\u001b[K     |████████████████████████████████| 112kB 19.4MB/s \n",
            "\u001b[?25hCollecting dateparser\n",
            "\u001b[?25l  Downloading https://files.pythonhosted.org/packages/78/c4/b5ddc3eeac974d85055d88c1e6b62cc492fc1a93dbe3b66a45a756a7b807/dateparser-1.0.0-py2.py3-none-any.whl (279kB)\n",
            "\u001b[K     |████████████████████████████████| 286kB 42.7MB/s \n",
            "\u001b[?25hRequirement already satisfied: requests in /usr/local/lib/python3.7/dist-packages (from python-binance) (2.23.0)\n",
            "Collecting ujson\n",
            "\u001b[?25l  Downloading https://files.pythonhosted.org/packages/17/4e/50e8e4cf5f00b537095711c2c86ac4d7191aed2b4fffd5a19f06898f6929/ujson-4.0.2-cp37-cp37m-manylinux1_x86_64.whl (179kB)\n",
            "\u001b[K     |████████████████████████████████| 184kB 39.7MB/s \n",
            "\u001b[?25hRequirement already satisfied: pandas in /usr/local/lib/python3.7/dist-packages (from mplfinance) (1.1.5)\n",
            "Requirement already satisfied: matplotlib in /usr/local/lib/python3.7/dist-packages (from mplfinance) (3.2.2)\n",
            "Requirement already satisfied: typing-extensions>=3.6.5 in /usr/local/lib/python3.7/dist-packages (from aiohttp->python-binance) (3.7.4.3)\n",
            "Collecting multidict<7.0,>=4.5\n",
            "\u001b[?25l  Downloading https://files.pythonhosted.org/packages/7c/a6/4123b8165acbe773d1a8dc8e3f0d1edea16d29f7de018eda769abb56bd30/multidict-5.1.0-cp37-cp37m-manylinux2014_x86_64.whl (142kB)\n",
            "\u001b[K     |████████████████████████████████| 143kB 43.1MB/s \n",
            "\u001b[?25hCollecting yarl<2.0,>=1.0\n",
            "\u001b[?25l  Downloading https://files.pythonhosted.org/packages/f1/62/046834c5fc998c88ab2ef722f5d42122230a632212c8afa76418324f53ff/yarl-1.6.3-cp37-cp37m-manylinux2014_x86_64.whl (294kB)\n",
            "\u001b[K     |████████████████████████████████| 296kB 41.4MB/s \n",
            "\u001b[?25hCollecting async-timeout<4.0,>=3.0\n",
            "  Downloading https://files.pythonhosted.org/packages/e1/1e/5a4441be21b0726c4464f3f23c8b19628372f606755a9d2e46c187e65ec4/async_timeout-3.0.1-py3-none-any.whl\n",
            "Requirement already satisfied: chardet<5.0,>=2.0 in /usr/local/lib/python3.7/dist-packages (from aiohttp->python-binance) (3.0.4)\n",
            "Requirement already satisfied: attrs>=17.3.0 in /usr/local/lib/python3.7/dist-packages (from aiohttp->python-binance) (21.2.0)\n",
            "Requirement already satisfied: tzlocal in /usr/local/lib/python3.7/dist-packages (from dateparser->python-binance) (1.5.1)\n",
            "Requirement already satisfied: pytz in /usr/local/lib/python3.7/dist-packages (from dateparser->python-binance) (2018.9)\n",
            "Requirement already satisfied: regex!=2019.02.19 in /usr/local/lib/python3.7/dist-packages (from dateparser->python-binance) (2019.12.20)\n",
            "Requirement already satisfied: python-dateutil in /usr/local/lib/python3.7/dist-packages (from dateparser->python-binance) (2.8.1)\n",
            "Requirement already satisfied: idna<3,>=2.5 in /usr/local/lib/python3.7/dist-packages (from requests->python-binance) (2.10)\n",
            "Requirement already satisfied: certifi>=2017.4.17 in /usr/local/lib/python3.7/dist-packages (from requests->python-binance) (2021.5.30)\n",
            "Requirement already satisfied: urllib3!=1.25.0,!=1.25.1,<1.26,>=1.21.1 in /usr/local/lib/python3.7/dist-packages (from requests->python-binance) (1.24.3)\n",
            "Requirement already satisfied: numpy>=1.15.4 in /usr/local/lib/python3.7/dist-packages (from pandas->mplfinance) (1.19.5)\n",
            "Requirement already satisfied: pyparsing!=2.0.4,!=2.1.2,!=2.1.6,>=2.0.1 in /usr/local/lib/python3.7/dist-packages (from matplotlib->mplfinance) (2.4.7)\n",
            "Requirement already satisfied: kiwisolver>=1.0.1 in /usr/local/lib/python3.7/dist-packages (from matplotlib->mplfinance) (1.3.1)\n",
            "Requirement already satisfied: cycler>=0.10 in /usr/local/lib/python3.7/dist-packages (from matplotlib->mplfinance) (0.10.0)\n",
            "Installing collected packages: multidict, yarl, async-timeout, aiohttp, websockets, dateparser, ujson, python-binance, mplfinance\n",
            "Successfully installed aiohttp-3.7.4.post0 async-timeout-3.0.1 dateparser-1.0.0 mplfinance-0.12.7a17 multidict-5.1.0 python-binance-1.0.12 ujson-4.0.2 websockets-9.1 yarl-1.6.3\n"
          ],
          "name": "stdout"
        }
      ]
    },
    {
      "cell_type": "code",
      "metadata": {
        "id": "ud4a8G0d-ovy"
      },
      "source": [
        "import pandas as pd\n",
        "from binance import Client, ThreadedWebsocketManager, ThreadedDepthCacheManager"
      ],
      "execution_count": 3,
      "outputs": []
    },
    {
      "cell_type": "code",
      "metadata": {
        "id": "npE9QJh2_WNO"
      },
      "source": [
        "client = Client(api_key, secret_key)"
      ],
      "execution_count": 4,
      "outputs": []
    },
    {
      "cell_type": "markdown",
      "metadata": {
        "id": "OpqH4uWg_l77"
      },
      "source": [
        "Get Data\n"
      ]
    },
    {
      "cell_type": "code",
      "metadata": {
        "id": "z14eTXld_jt3"
      },
      "source": [
        "tickers = client.get_all_tickers()\n"
      ],
      "execution_count": 5,
      "outputs": []
    },
    {
      "cell_type": "code",
      "metadata": {
        "id": "SlIg7__o_uUG"
      },
      "source": [
        "df1 = pd.DataFrame(tickers)\n",
        "df1.set_index('symbol', inplace=True)\n"
      ],
      "execution_count": 6,
      "outputs": []
    },
    {
      "cell_type": "code",
      "metadata": {
        "id": "o_CJlYq3_-hU"
      },
      "source": [
        "def get_depth_df(Client, name=\"ETHBTC\"):\n",
        "  depth = Client.get_order_book(symbol=name)\n",
        "  df_bids = pd.DataFrame(depth['bids'])\n",
        "  df_bids.columns = ['Bid_Price', 'Bid_Volume']\n",
        "  df_asks = pd.DataFrame(depth['asks'])\n",
        "  df_asks.columns = ['Ask_Price', 'Ask_Volume']\n",
        "  bids_and_asks = pd.concat([df_bids, df_asks], axis=1)\n",
        "  bids_and_asks.index = pd.DataFrame(depth)['lastUpdateId']\n",
        "  for column in bids_and_asks.columns:\n",
        "    bids_and_asks[column] = pd.to_numeric(bids_and_asks[column])\n",
        "  return bids_and_asks\n"
      ],
      "execution_count": 7,
      "outputs": []
    },
    {
      "cell_type": "code",
      "metadata": {
        "id": "XMLFXtD7LlC7"
      },
      "source": [
        "df_btc = get_depth_df(client, 'BTCUSDT')\n"
      ],
      "execution_count": 8,
      "outputs": []
    },
    {
      "cell_type": "code",
      "metadata": {
        "id": "2ADUfJXcIkb-"
      },
      "source": [
        "def get_historic_data(Client, name='BTCUSDT', interval = Client.KLINE_INTERVAL_1DAY, date='1 Jan 2011'):\n",
        "  history = Client.get_historical_klines(name, interval, date)\n",
        "  df_cols = ['Open Time', 'Open', 'High', \"Low\", 'Close', 'Volume', 'Close Time', 'Quote Asset Volume', 'Number of Trades', 'buy base asset volume', 'buy quote asset volume', 'Ignore']\n",
        "  history_df = pd.DataFrame(history)\n",
        "  history_df.columns = df_cols\n",
        "  date_col_list = ['Open Time', 'Close Time']\n",
        "  for column in history_df.columns:\n",
        "    if column not in date_col_list:\n",
        "      history_df[column] = pd.to_numeric(history_df[column])\n",
        "    else:\n",
        "      history_df[column] = pd.to_datetime(history_df[column]/1000, unit='s')\n",
        "  history_df.set_index('Close Time', inplace=True)\n",
        "  return history_df"
      ],
      "execution_count": 18,
      "outputs": []
    },
    {
      "cell_type": "code",
      "metadata": {
        "colab": {
          "base_uri": "https://localhost:8080/",
          "height": 674
        },
        "id": "KP-iLO59QCQj",
        "outputId": "a41c4630-9100-4b96-8966-af659f31d9e5"
      },
      "source": [
        "btc_history = get_historic_data(client)\n",
        "btc_history"
      ],
      "execution_count": 19,
      "outputs": [
        {
          "output_type": "execute_result",
          "data": {
            "text/html": [
              "<div>\n",
              "<style scoped>\n",
              "    .dataframe tbody tr th:only-of-type {\n",
              "        vertical-align: middle;\n",
              "    }\n",
              "\n",
              "    .dataframe tbody tr th {\n",
              "        vertical-align: top;\n",
              "    }\n",
              "\n",
              "    .dataframe thead th {\n",
              "        text-align: right;\n",
              "    }\n",
              "</style>\n",
              "<table border=\"1\" class=\"dataframe\">\n",
              "  <thead>\n",
              "    <tr style=\"text-align: right;\">\n",
              "      <th></th>\n",
              "      <th>Open Time</th>\n",
              "      <th>Open</th>\n",
              "      <th>High</th>\n",
              "      <th>Low</th>\n",
              "      <th>Close</th>\n",
              "      <th>Volume</th>\n",
              "      <th>Quote Asset Volume</th>\n",
              "      <th>Number of Trades</th>\n",
              "      <th>buy base asset volume</th>\n",
              "      <th>buy quote asset volume</th>\n",
              "      <th>Ignore</th>\n",
              "    </tr>\n",
              "    <tr>\n",
              "      <th>Close Time</th>\n",
              "      <th></th>\n",
              "      <th></th>\n",
              "      <th></th>\n",
              "      <th></th>\n",
              "      <th></th>\n",
              "      <th></th>\n",
              "      <th></th>\n",
              "      <th></th>\n",
              "      <th></th>\n",
              "      <th></th>\n",
              "      <th></th>\n",
              "    </tr>\n",
              "  </thead>\n",
              "  <tbody>\n",
              "    <tr>\n",
              "      <th>2017-08-17 23:59:59.999000072</th>\n",
              "      <td>2017-08-17</td>\n",
              "      <td>4261.48</td>\n",
              "      <td>4485.39</td>\n",
              "      <td>4200.74</td>\n",
              "      <td>4285.08</td>\n",
              "      <td>795.150377</td>\n",
              "      <td>3.454770e+06</td>\n",
              "      <td>3427</td>\n",
              "      <td>616.248541</td>\n",
              "      <td>2.678216e+06</td>\n",
              "      <td>8733.911395</td>\n",
              "    </tr>\n",
              "    <tr>\n",
              "      <th>2017-08-18 23:59:59.999000072</th>\n",
              "      <td>2017-08-18</td>\n",
              "      <td>4285.08</td>\n",
              "      <td>4371.52</td>\n",
              "      <td>3938.77</td>\n",
              "      <td>4108.37</td>\n",
              "      <td>1199.888264</td>\n",
              "      <td>5.086958e+06</td>\n",
              "      <td>5233</td>\n",
              "      <td>972.868710</td>\n",
              "      <td>4.129123e+06</td>\n",
              "      <td>9384.141409</td>\n",
              "    </tr>\n",
              "    <tr>\n",
              "      <th>2017-08-19 23:59:59.999000072</th>\n",
              "      <td>2017-08-19</td>\n",
              "      <td>4108.37</td>\n",
              "      <td>4184.69</td>\n",
              "      <td>3850.00</td>\n",
              "      <td>4139.98</td>\n",
              "      <td>381.309763</td>\n",
              "      <td>1.549484e+06</td>\n",
              "      <td>2153</td>\n",
              "      <td>274.336042</td>\n",
              "      <td>1.118002e+06</td>\n",
              "      <td>9184.085529</td>\n",
              "    </tr>\n",
              "    <tr>\n",
              "      <th>2017-08-20 23:59:59.999000072</th>\n",
              "      <td>2017-08-20</td>\n",
              "      <td>4120.98</td>\n",
              "      <td>4211.08</td>\n",
              "      <td>4032.62</td>\n",
              "      <td>4086.29</td>\n",
              "      <td>467.083022</td>\n",
              "      <td>1.930364e+06</td>\n",
              "      <td>2321</td>\n",
              "      <td>376.795947</td>\n",
              "      <td>1.557401e+06</td>\n",
              "      <td>10125.414084</td>\n",
              "    </tr>\n",
              "    <tr>\n",
              "      <th>2017-08-21 23:59:59.999000072</th>\n",
              "      <td>2017-08-21</td>\n",
              "      <td>4069.13</td>\n",
              "      <td>4119.62</td>\n",
              "      <td>3911.79</td>\n",
              "      <td>4016.00</td>\n",
              "      <td>691.743060</td>\n",
              "      <td>2.797232e+06</td>\n",
              "      <td>3972</td>\n",
              "      <td>557.356107</td>\n",
              "      <td>2.255663e+06</td>\n",
              "      <td>11706.769970</td>\n",
              "    </tr>\n",
              "    <tr>\n",
              "      <th>...</th>\n",
              "      <td>...</td>\n",
              "      <td>...</td>\n",
              "      <td>...</td>\n",
              "      <td>...</td>\n",
              "      <td>...</td>\n",
              "      <td>...</td>\n",
              "      <td>...</td>\n",
              "      <td>...</td>\n",
              "      <td>...</td>\n",
              "      <td>...</td>\n",
              "      <td>...</td>\n",
              "    </tr>\n",
              "    <tr>\n",
              "      <th>2021-06-13 23:59:59.999000072</th>\n",
              "      <td>2021-06-13</td>\n",
              "      <td>35546.12</td>\n",
              "      <td>39380.00</td>\n",
              "      <td>34757.00</td>\n",
              "      <td>39020.57</td>\n",
              "      <td>86921.025555</td>\n",
              "      <td>3.208992e+09</td>\n",
              "      <td>1894103</td>\n",
              "      <td>45675.273616</td>\n",
              "      <td>1.688611e+09</td>\n",
              "      <td>0.000000</td>\n",
              "    </tr>\n",
              "    <tr>\n",
              "      <th>2021-06-14 23:59:59.999000072</th>\n",
              "      <td>2021-06-14</td>\n",
              "      <td>39020.56</td>\n",
              "      <td>41064.05</td>\n",
              "      <td>38730.00</td>\n",
              "      <td>40516.29</td>\n",
              "      <td>108522.391949</td>\n",
              "      <td>4.320308e+09</td>\n",
              "      <td>2185089</td>\n",
              "      <td>53645.908744</td>\n",
              "      <td>2.135286e+09</td>\n",
              "      <td>0.000000</td>\n",
              "    </tr>\n",
              "    <tr>\n",
              "      <th>2021-06-15 23:59:59.999000072</th>\n",
              "      <td>2021-06-15</td>\n",
              "      <td>40516.28</td>\n",
              "      <td>41330.00</td>\n",
              "      <td>39506.40</td>\n",
              "      <td>40144.04</td>\n",
              "      <td>80679.622838</td>\n",
              "      <td>3.247747e+09</td>\n",
              "      <td>1931890</td>\n",
              "      <td>39428.829726</td>\n",
              "      <td>1.587382e+09</td>\n",
              "      <td>0.000000</td>\n",
              "    </tr>\n",
              "    <tr>\n",
              "      <th>2021-06-16 23:59:59.999000072</th>\n",
              "      <td>2021-06-16</td>\n",
              "      <td>40143.80</td>\n",
              "      <td>40527.14</td>\n",
              "      <td>38116.01</td>\n",
              "      <td>38349.01</td>\n",
              "      <td>87771.976937</td>\n",
              "      <td>3.450556e+09</td>\n",
              "      <td>2134897</td>\n",
              "      <td>42137.242251</td>\n",
              "      <td>1.657136e+09</td>\n",
              "      <td>0.000000</td>\n",
              "    </tr>\n",
              "    <tr>\n",
              "      <th>2021-06-17 23:59:59.999000072</th>\n",
              "      <td>2021-06-17</td>\n",
              "      <td>38349.00</td>\n",
              "      <td>39559.88</td>\n",
              "      <td>38213.23</td>\n",
              "      <td>39322.57</td>\n",
              "      <td>28400.562567</td>\n",
              "      <td>1.107924e+09</td>\n",
              "      <td>654124</td>\n",
              "      <td>13511.603655</td>\n",
              "      <td>5.273038e+08</td>\n",
              "      <td>0.000000</td>\n",
              "    </tr>\n",
              "  </tbody>\n",
              "</table>\n",
              "<p>1401 rows × 11 columns</p>\n",
              "</div>"
            ],
            "text/plain": [
              "                               Open Time  ...        Ignore\n",
              "Close Time                                ...              \n",
              "2017-08-17 23:59:59.999000072 2017-08-17  ...   8733.911395\n",
              "2017-08-18 23:59:59.999000072 2017-08-18  ...   9384.141409\n",
              "2017-08-19 23:59:59.999000072 2017-08-19  ...   9184.085529\n",
              "2017-08-20 23:59:59.999000072 2017-08-20  ...  10125.414084\n",
              "2017-08-21 23:59:59.999000072 2017-08-21  ...  11706.769970\n",
              "...                                  ...  ...           ...\n",
              "2021-06-13 23:59:59.999000072 2021-06-13  ...      0.000000\n",
              "2021-06-14 23:59:59.999000072 2021-06-14  ...      0.000000\n",
              "2021-06-15 23:59:59.999000072 2021-06-15  ...      0.000000\n",
              "2021-06-16 23:59:59.999000072 2021-06-16  ...      0.000000\n",
              "2021-06-17 23:59:59.999000072 2021-06-17  ...      0.000000\n",
              "\n",
              "[1401 rows x 11 columns]"
            ]
          },
          "metadata": {
            "tags": []
          },
          "execution_count": 19
        }
      ]
    },
    {
      "cell_type": "code",
      "metadata": {
        "id": "vEhshCkaQVrx"
      },
      "source": [
        "import mplfinance as mpf\n",
        "import matplotlib.pyplot as plt\n"
      ],
      "execution_count": 25,
      "outputs": []
    },
    {
      "cell_type": "code",
      "metadata": {
        "id": "DZaTFzVOoq72"
      },
      "source": [
        "market_colors = mpf.make_marketcolors(up='chartreuse', down='orangered', wick={'up':'chartreuse', 'down':'orangered'}, volume='inherit', ohlc='inherit')\n",
        "mav_colours = ['chartreuse', 'orangered']\n",
        "thinkorswim_style = mpf.make_mpf_style(base_mpl_style=\"dark_background\", marketcolors=market_colors, mavcolors=mav_colours, gridstyle='dashed')\n"
      ],
      "execution_count": 43,
      "outputs": []
    },
    {
      "cell_type": "code",
      "metadata": {
        "id": "oLfUic94SYWS",
        "colab": {
          "base_uri": "https://localhost:8080/",
          "height": 561
        },
        "outputId": "4fe6bdd6-0b3c-4e81-9a62-b459b31f9e31"
      },
      "source": [
        "mpf.plot(btc_history.tail(50), type='candle', volume=True, title=\"Bitcoin\", mav=(10, 20), style=thinkorswim_style, show_nontrading=True)"
      ],
      "execution_count": 44,
      "outputs": [
        {
          "output_type": "display_data",
          "data": {
            "image/png": "[encoded data removed]",
            "text/plain": [
              "<Figure size 800x575 with 4 Axes>"
            ]
          },
          "metadata": {
            "tags": []
          }
        }
      ]
    },
    {
      "cell_type": "code",
      "metadata": {
        "id": "QD76nQIvvlRh"
      },
      "source": [
        ""
      ],
      "execution_count": null,
      "outputs": []
    }
  ]
}